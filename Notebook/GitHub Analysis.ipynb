{
 "cells": [
  {
   "cell_type": "code",
   "execution_count": 78,
   "metadata": {},
   "outputs": [],
   "source": [
    "import pandas as pd \n",
    "import numpy as np \n",
    "import matplotlib.pyplot as plt \n",
    "import seaborn as sns \n",
    "import plotly.express as px"
   ]
  },
  {
   "cell_type": "code",
   "execution_count": 79,
   "metadata": {},
   "outputs": [],
   "source": [
    "df = pd.read_csv(\"egyption_github_data.csv\")"
   ]
  },
  {
   "cell_type": "code",
   "execution_count": 80,
   "metadata": {},
   "outputs": [
    {
     "data": {
      "text/html": [
       "<div>\n",
       "<style scoped>\n",
       "    .dataframe tbody tr th:only-of-type {\n",
       "        vertical-align: middle;\n",
       "    }\n",
       "\n",
       "    .dataframe tbody tr th {\n",
       "        vertical-align: top;\n",
       "    }\n",
       "\n",
       "    .dataframe thead th {\n",
       "        text-align: right;\n",
       "    }\n",
       "</style>\n",
       "<table border=\"1\" class=\"dataframe\">\n",
       "  <thead>\n",
       "    <tr style=\"text-align: right;\">\n",
       "      <th></th>\n",
       "      <th>owner</th>\n",
       "      <th>repo_name</th>\n",
       "      <th>repo_html_url</th>\n",
       "      <th>topics</th>\n",
       "      <th>forks_count</th>\n",
       "      <th>repo_description</th>\n",
       "      <th>stargazers_count</th>\n",
       "      <th>last_repo_commit_date</th>\n",
       "      <th>license</th>\n",
       "      <th>contribs_count</th>\n",
       "      <th>language</th>\n",
       "      <th>commits_count</th>\n",
       "      <th>open_issues</th>\n",
       "      <th>closed_issues</th>\n",
       "      <th>open_pull_requests</th>\n",
       "      <th>closed_pull_requests</th>\n",
       "      <th>merged_pull_requests</th>\n",
       "      <th>tags</th>\n",
       "      <th>doc_files</th>\n",
       "      <th>cicd_files</th>\n",
       "      <th>db_files</th>\n",
       "      <th>api_files</th>\n",
       "      <th>ci_cd_tool</th>\n",
       "      <th>database_types</th>\n",
       "      <th>name</th>\n",
       "      <th>location</th>\n",
       "      <th>email</th>\n",
       "      <th>bio</th>\n",
       "      <th>public_repos</th>\n",
       "      <th>public_gists</th>\n",
       "      <th>followers</th>\n",
       "      <th>following</th>\n",
       "      <th>profile_created_at</th>\n",
       "      <th>profile_updated_at</th>\n",
       "      <th>documentation_score</th>\n",
       "    </tr>\n",
       "  </thead>\n",
       "  <tbody>\n",
       "    <tr>\n",
       "      <th>0</th>\n",
       "      <td>mohamedmagdy</td>\n",
       "      <td>NTI_project</td>\n",
       "      <td>https://github.com/mohamedmagdy/NTI_project</td>\n",
       "      <td>NaN</td>\n",
       "      <td>1</td>\n",
       "      <td>A repository for code that has been written du...</td>\n",
       "      <td>3</td>\n",
       "      <td>2023-10-25T15:54:44Z</td>\n",
       "      <td>NaN</td>\n",
       "      <td>4</td>\n",
       "      <td>Python</td>\n",
       "      <td>-1</td>\n",
       "      <td>0</td>\n",
       "      <td>1</td>\n",
       "      <td>0</td>\n",
       "      <td>1</td>\n",
       "      <td>1</td>\n",
       "      <td>[]</td>\n",
       "      <td>[]</td>\n",
       "      <td>[]</td>\n",
       "      <td>['.gitignore']</td>\n",
       "      <td>[]</td>\n",
       "      <td>[]</td>\n",
       "      <td>['']</td>\n",
       "      <td>Mohamed Magdy</td>\n",
       "      <td>Egypt</td>\n",
       "      <td>moh.magdy40@gmail.com</td>\n",
       "      <td>@ProjoMania Founder\\nYouTube: https://bit.ly/3...</td>\n",
       "      <td>17.0</td>\n",
       "      <td>0.0</td>\n",
       "      <td>179.0</td>\n",
       "      <td>4.0</td>\n",
       "      <td>2013-07-11T04:36:16Z</td>\n",
       "      <td>2024-10-09T17:41:48Z</td>\n",
       "      <td>1</td>\n",
       "    </tr>\n",
       "    <tr>\n",
       "      <th>1</th>\n",
       "      <td>mathewhany</td>\n",
       "      <td>harvard-computer-architecture-java-simulator</td>\n",
       "      <td>https://github.com/mathewhany/harvard-computer...</td>\n",
       "      <td>NaN</td>\n",
       "      <td>2</td>\n",
       "      <td>A simulator of the Harvard microarchitecture u...</td>\n",
       "      <td>3</td>\n",
       "      <td>2024-04-26T12:35:38Z</td>\n",
       "      <td>NaN</td>\n",
       "      <td>5</td>\n",
       "      <td>Java</td>\n",
       "      <td>24</td>\n",
       "      <td>-1</td>\n",
       "      <td>-1</td>\n",
       "      <td>-1</td>\n",
       "      <td>-1</td>\n",
       "      <td>-1</td>\n",
       "      <td>[]</td>\n",
       "      <td>[]</td>\n",
       "      <td>[]</td>\n",
       "      <td>['.gitignore', '.idea/.gitignore']</td>\n",
       "      <td>[]</td>\n",
       "      <td>[]</td>\n",
       "      <td>['']</td>\n",
       "      <td>Mathew Hany</td>\n",
       "      <td>Cairo, Egypt</td>\n",
       "      <td>mathew.hanybb@gmail.com</td>\n",
       "      <td>Backend Intern @Instabug | 7th semester CSE St...</td>\n",
       "      <td>39.0</td>\n",
       "      <td>2.0</td>\n",
       "      <td>121.0</td>\n",
       "      <td>87.0</td>\n",
       "      <td>2013-04-30T10:45:30Z</td>\n",
       "      <td>2024-09-21T11:25:39Z</td>\n",
       "      <td>1</td>\n",
       "    </tr>\n",
       "    <tr>\n",
       "      <th>2</th>\n",
       "      <td>mustafaelnahas</td>\n",
       "      <td>awesome-datascience</td>\n",
       "      <td>https://github.com/mustafaelnahas/awesome-data...</td>\n",
       "      <td>NaN</td>\n",
       "      <td>6</td>\n",
       "      <td>:memo: An awesome Data Science repository to l...</td>\n",
       "      <td>3</td>\n",
       "      <td>2024-09-01T15:18:41Z</td>\n",
       "      <td>MIT License</td>\n",
       "      <td>30</td>\n",
       "      <td>NaN</td>\n",
       "      <td>30</td>\n",
       "      <td>-1</td>\n",
       "      <td>-1</td>\n",
       "      <td>-1</td>\n",
       "      <td>-1</td>\n",
       "      <td>-1</td>\n",
       "      <td>[]</td>\n",
       "      <td>[]</td>\n",
       "      <td>['.travis.yml']</td>\n",
       "      <td>['.gitignore', '.idea/.gitignore']</td>\n",
       "      <td>[]</td>\n",
       "      <td>['Travis CI']</td>\n",
       "      <td>['']</td>\n",
       "      <td>Mustafa Othman</td>\n",
       "      <td>Egypt</td>\n",
       "      <td>mustafa.elnahas@gmail.com</td>\n",
       "      <td>NaN</td>\n",
       "      <td>16.0</td>\n",
       "      <td>0.0</td>\n",
       "      <td>97.0</td>\n",
       "      <td>40.0</td>\n",
       "      <td>2013-03-01T11:55:51Z</td>\n",
       "      <td>2023-10-28T12:47:53Z</td>\n",
       "      <td>1</td>\n",
       "    </tr>\n",
       "    <tr>\n",
       "      <th>3</th>\n",
       "      <td>mustafaelnahas</td>\n",
       "      <td>free-data-science-books</td>\n",
       "      <td>https://github.com/mustafaelnahas/free-data-sc...</td>\n",
       "      <td>NaN</td>\n",
       "      <td>5</td>\n",
       "      <td>Free resources for learning data science</td>\n",
       "      <td>3</td>\n",
       "      <td>2024-09-01T15:19:09Z</td>\n",
       "      <td>The Unlicense</td>\n",
       "      <td>14</td>\n",
       "      <td>NaN</td>\n",
       "      <td>30</td>\n",
       "      <td>-1</td>\n",
       "      <td>-1</td>\n",
       "      <td>-1</td>\n",
       "      <td>-1</td>\n",
       "      <td>-1</td>\n",
       "      <td>[]</td>\n",
       "      <td>[]</td>\n",
       "      <td>['.travis.yml']</td>\n",
       "      <td>['.gitignore', '.idea/.gitignore']</td>\n",
       "      <td>[]</td>\n",
       "      <td>['Travis CI']</td>\n",
       "      <td>['']</td>\n",
       "      <td>Mustafa Othman</td>\n",
       "      <td>Egypt</td>\n",
       "      <td>mustafa.elnahas@gmail.com</td>\n",
       "      <td>NaN</td>\n",
       "      <td>16.0</td>\n",
       "      <td>0.0</td>\n",
       "      <td>97.0</td>\n",
       "      <td>40.0</td>\n",
       "      <td>2013-03-01T11:55:51Z</td>\n",
       "      <td>2023-10-28T12:47:53Z</td>\n",
       "      <td>1</td>\n",
       "    </tr>\n",
       "    <tr>\n",
       "      <th>4</th>\n",
       "      <td>amorenew</td>\n",
       "      <td>alps_rfid_n6737</td>\n",
       "      <td>https://github.com/amorenew/alps_rfid_n6737</td>\n",
       "      <td>NaN</td>\n",
       "      <td>4</td>\n",
       "      <td>NaN</td>\n",
       "      <td>3</td>\n",
       "      <td>2024-04-17T17:31:28Z</td>\n",
       "      <td>Other</td>\n",
       "      <td>3</td>\n",
       "      <td>Kotlin</td>\n",
       "      <td>24</td>\n",
       "      <td>3</td>\n",
       "      <td>11</td>\n",
       "      <td>0</td>\n",
       "      <td>6</td>\n",
       "      <td>6</td>\n",
       "      <td>[]</td>\n",
       "      <td>[]</td>\n",
       "      <td>['.travis.yml']</td>\n",
       "      <td>['example/.gitignore', 'example/android/build....</td>\n",
       "      <td>[]</td>\n",
       "      <td>['Travis CI']</td>\n",
       "      <td>['']</td>\n",
       "      <td>Amr Abd El Wahab El Desouky</td>\n",
       "      <td>Egypt</td>\n",
       "      <td>amorenew@gmail.com</td>\n",
       "      <td>Mobile Developer\\nAndroid, iOS, React Native, ...</td>\n",
       "      <td>135.0</td>\n",
       "      <td>5.0</td>\n",
       "      <td>52.0</td>\n",
       "      <td>3.0</td>\n",
       "      <td>2012-11-20T08:52:32Z</td>\n",
       "      <td>2024-10-01T19:58:54Z</td>\n",
       "      <td>0</td>\n",
       "    </tr>\n",
       "  </tbody>\n",
       "</table>\n",
       "</div>"
      ],
      "text/plain": [
       "            owner                                     repo_name  \\\n",
       "0    mohamedmagdy                                   NTI_project   \n",
       "1      mathewhany  harvard-computer-architecture-java-simulator   \n",
       "2  mustafaelnahas                           awesome-datascience   \n",
       "3  mustafaelnahas                       free-data-science-books   \n",
       "4        amorenew                               alps_rfid_n6737   \n",
       "\n",
       "                                       repo_html_url topics  forks_count  \\\n",
       "0        https://github.com/mohamedmagdy/NTI_project    NaN            1   \n",
       "1  https://github.com/mathewhany/harvard-computer...    NaN            2   \n",
       "2  https://github.com/mustafaelnahas/awesome-data...    NaN            6   \n",
       "3  https://github.com/mustafaelnahas/free-data-sc...    NaN            5   \n",
       "4        https://github.com/amorenew/alps_rfid_n6737    NaN            4   \n",
       "\n",
       "                                    repo_description  stargazers_count  \\\n",
       "0  A repository for code that has been written du...                 3   \n",
       "1  A simulator of the Harvard microarchitecture u...                 3   \n",
       "2  :memo: An awesome Data Science repository to l...                 3   \n",
       "3           Free resources for learning data science                 3   \n",
       "4                                                NaN                 3   \n",
       "\n",
       "  last_repo_commit_date        license  contribs_count language  \\\n",
       "0  2023-10-25T15:54:44Z            NaN               4   Python   \n",
       "1  2024-04-26T12:35:38Z            NaN               5     Java   \n",
       "2  2024-09-01T15:18:41Z    MIT License              30      NaN   \n",
       "3  2024-09-01T15:19:09Z  The Unlicense              14      NaN   \n",
       "4  2024-04-17T17:31:28Z          Other               3   Kotlin   \n",
       "\n",
       "   commits_count  open_issues  closed_issues  open_pull_requests  \\\n",
       "0             -1            0              1                   0   \n",
       "1             24           -1             -1                  -1   \n",
       "2             30           -1             -1                  -1   \n",
       "3             30           -1             -1                  -1   \n",
       "4             24            3             11                   0   \n",
       "\n",
       "   closed_pull_requests  merged_pull_requests tags doc_files       cicd_files  \\\n",
       "0                     1                     1   []        []               []   \n",
       "1                    -1                    -1   []        []               []   \n",
       "2                    -1                    -1   []        []  ['.travis.yml']   \n",
       "3                    -1                    -1   []        []  ['.travis.yml']   \n",
       "4                     6                     6   []        []  ['.travis.yml']   \n",
       "\n",
       "                                            db_files api_files     ci_cd_tool  \\\n",
       "0                                     ['.gitignore']        []             []   \n",
       "1                 ['.gitignore', '.idea/.gitignore']        []             []   \n",
       "2                 ['.gitignore', '.idea/.gitignore']        []  ['Travis CI']   \n",
       "3                 ['.gitignore', '.idea/.gitignore']        []  ['Travis CI']   \n",
       "4  ['example/.gitignore', 'example/android/build....        []  ['Travis CI']   \n",
       "\n",
       "  database_types                         name      location  \\\n",
       "0           ['']                Mohamed Magdy         Egypt   \n",
       "1           ['']                  Mathew Hany  Cairo, Egypt   \n",
       "2           ['']               Mustafa Othman         Egypt   \n",
       "3           ['']               Mustafa Othman         Egypt   \n",
       "4           ['']  Amr Abd El Wahab El Desouky         Egypt   \n",
       "\n",
       "                       email  \\\n",
       "0      moh.magdy40@gmail.com   \n",
       "1    mathew.hanybb@gmail.com   \n",
       "2  mustafa.elnahas@gmail.com   \n",
       "3  mustafa.elnahas@gmail.com   \n",
       "4         amorenew@gmail.com   \n",
       "\n",
       "                                                 bio  public_repos  \\\n",
       "0  @ProjoMania Founder\\nYouTube: https://bit.ly/3...          17.0   \n",
       "1  Backend Intern @Instabug | 7th semester CSE St...          39.0   \n",
       "2                                                NaN          16.0   \n",
       "3                                                NaN          16.0   \n",
       "4  Mobile Developer\\nAndroid, iOS, React Native, ...         135.0   \n",
       "\n",
       "   public_gists  followers  following    profile_created_at  \\\n",
       "0           0.0      179.0        4.0  2013-07-11T04:36:16Z   \n",
       "1           2.0      121.0       87.0  2013-04-30T10:45:30Z   \n",
       "2           0.0       97.0       40.0  2013-03-01T11:55:51Z   \n",
       "3           0.0       97.0       40.0  2013-03-01T11:55:51Z   \n",
       "4           5.0       52.0        3.0  2012-11-20T08:52:32Z   \n",
       "\n",
       "     profile_updated_at  documentation_score  \n",
       "0  2024-10-09T17:41:48Z                    1  \n",
       "1  2024-09-21T11:25:39Z                    1  \n",
       "2  2023-10-28T12:47:53Z                    1  \n",
       "3  2023-10-28T12:47:53Z                    1  \n",
       "4  2024-10-01T19:58:54Z                    0  "
      ]
     },
     "execution_count": 80,
     "metadata": {},
     "output_type": "execute_result"
    }
   ],
   "source": [
    "df.head()"
   ]
  },
  {
   "cell_type": "code",
   "execution_count": 81,
   "metadata": {},
   "outputs": [
    {
     "data": {
      "text/plain": [
       "(1579, 35)"
      ]
     },
     "execution_count": 81,
     "metadata": {},
     "output_type": "execute_result"
    }
   ],
   "source": [
    "df.shape"
   ]
  },
  {
   "cell_type": "code",
   "execution_count": 82,
   "metadata": {},
   "outputs": [
    {
     "data": {
      "text/html": [
       "<div>\n",
       "<style scoped>\n",
       "    .dataframe tbody tr th:only-of-type {\n",
       "        vertical-align: middle;\n",
       "    }\n",
       "\n",
       "    .dataframe tbody tr th {\n",
       "        vertical-align: top;\n",
       "    }\n",
       "\n",
       "    .dataframe thead th {\n",
       "        text-align: right;\n",
       "    }\n",
       "</style>\n",
       "<table border=\"1\" class=\"dataframe\">\n",
       "  <thead>\n",
       "    <tr style=\"text-align: right;\">\n",
       "      <th></th>\n",
       "      <th>forks_count</th>\n",
       "      <th>stargazers_count</th>\n",
       "      <th>contribs_count</th>\n",
       "      <th>commits_count</th>\n",
       "      <th>open_issues</th>\n",
       "      <th>closed_issues</th>\n",
       "      <th>open_pull_requests</th>\n",
       "      <th>closed_pull_requests</th>\n",
       "      <th>merged_pull_requests</th>\n",
       "      <th>public_repos</th>\n",
       "      <th>public_gists</th>\n",
       "      <th>followers</th>\n",
       "      <th>following</th>\n",
       "      <th>documentation_score</th>\n",
       "    </tr>\n",
       "  </thead>\n",
       "  <tbody>\n",
       "    <tr>\n",
       "      <th>count</th>\n",
       "      <td>1579.000000</td>\n",
       "      <td>1579.000000</td>\n",
       "      <td>1579.000000</td>\n",
       "      <td>1579.000000</td>\n",
       "      <td>1579.000000</td>\n",
       "      <td>1579.000000</td>\n",
       "      <td>1579.000000</td>\n",
       "      <td>1579.000000</td>\n",
       "      <td>1579.000000</td>\n",
       "      <td>1578.000000</td>\n",
       "      <td>1578.000000</td>\n",
       "      <td>1578.000000</td>\n",
       "      <td>1578.000000</td>\n",
       "      <td>1579.000000</td>\n",
       "    </tr>\n",
       "    <tr>\n",
       "      <th>mean</th>\n",
       "      <td>12.194427</td>\n",
       "      <td>52.228626</td>\n",
       "      <td>4.592147</td>\n",
       "      <td>15.718809</td>\n",
       "      <td>0.397720</td>\n",
       "      <td>3.898037</td>\n",
       "      <td>-0.154528</td>\n",
       "      <td>3.131729</td>\n",
       "      <td>2.535782</td>\n",
       "      <td>32.472750</td>\n",
       "      <td>2.233840</td>\n",
       "      <td>104.361850</td>\n",
       "      <td>47.996831</td>\n",
       "      <td>5.006333</td>\n",
       "    </tr>\n",
       "    <tr>\n",
       "      <th>std</th>\n",
       "      <td>86.366116</td>\n",
       "      <td>333.715558</td>\n",
       "      <td>5.673932</td>\n",
       "      <td>14.305005</td>\n",
       "      <td>3.036348</td>\n",
       "      <td>8.365335</td>\n",
       "      <td>2.053205</td>\n",
       "      <td>7.772616</td>\n",
       "      <td>6.862894</td>\n",
       "      <td>33.028027</td>\n",
       "      <td>11.587683</td>\n",
       "      <td>271.698748</td>\n",
       "      <td>91.983150</td>\n",
       "      <td>1.435989</td>\n",
       "    </tr>\n",
       "    <tr>\n",
       "      <th>min</th>\n",
       "      <td>0.000000</td>\n",
       "      <td>3.000000</td>\n",
       "      <td>2.000000</td>\n",
       "      <td>-1.000000</td>\n",
       "      <td>-1.000000</td>\n",
       "      <td>-1.000000</td>\n",
       "      <td>-1.000000</td>\n",
       "      <td>-1.000000</td>\n",
       "      <td>-1.000000</td>\n",
       "      <td>1.000000</td>\n",
       "      <td>0.000000</td>\n",
       "      <td>0.000000</td>\n",
       "      <td>0.000000</td>\n",
       "      <td>0.000000</td>\n",
       "    </tr>\n",
       "    <tr>\n",
       "      <th>25%</th>\n",
       "      <td>0.000000</td>\n",
       "      <td>4.000000</td>\n",
       "      <td>2.000000</td>\n",
       "      <td>-1.000000</td>\n",
       "      <td>-1.000000</td>\n",
       "      <td>-1.000000</td>\n",
       "      <td>-1.000000</td>\n",
       "      <td>-1.000000</td>\n",
       "      <td>-1.000000</td>\n",
       "      <td>15.000000</td>\n",
       "      <td>0.000000</td>\n",
       "      <td>12.000000</td>\n",
       "      <td>3.000000</td>\n",
       "      <td>4.000000</td>\n",
       "    </tr>\n",
       "    <tr>\n",
       "      <th>50%</th>\n",
       "      <td>2.000000</td>\n",
       "      <td>7.000000</td>\n",
       "      <td>3.000000</td>\n",
       "      <td>20.000000</td>\n",
       "      <td>-1.000000</td>\n",
       "      <td>-1.000000</td>\n",
       "      <td>-1.000000</td>\n",
       "      <td>-1.000000</td>\n",
       "      <td>-1.000000</td>\n",
       "      <td>26.000000</td>\n",
       "      <td>0.000000</td>\n",
       "      <td>33.000000</td>\n",
       "      <td>17.000000</td>\n",
       "      <td>5.000000</td>\n",
       "    </tr>\n",
       "    <tr>\n",
       "      <th>75%</th>\n",
       "      <td>6.000000</td>\n",
       "      <td>19.000000</td>\n",
       "      <td>4.000000</td>\n",
       "      <td>30.000000</td>\n",
       "      <td>0.000000</td>\n",
       "      <td>4.500000</td>\n",
       "      <td>0.000000</td>\n",
       "      <td>3.000000</td>\n",
       "      <td>2.000000</td>\n",
       "      <td>39.000000</td>\n",
       "      <td>1.000000</td>\n",
       "      <td>89.000000</td>\n",
       "      <td>57.000000</td>\n",
       "      <td>6.000000</td>\n",
       "    </tr>\n",
       "    <tr>\n",
       "      <th>max</th>\n",
       "      <td>2444.000000</td>\n",
       "      <td>9734.000000</td>\n",
       "      <td>30.000000</td>\n",
       "      <td>30.000000</td>\n",
       "      <td>26.000000</td>\n",
       "      <td>30.000000</td>\n",
       "      <td>23.000000</td>\n",
       "      <td>30.000000</td>\n",
       "      <td>30.000000</td>\n",
       "      <td>788.000000</td>\n",
       "      <td>287.000000</td>\n",
       "      <td>3198.000000</td>\n",
       "      <td>994.000000</td>\n",
       "      <td>8.000000</td>\n",
       "    </tr>\n",
       "  </tbody>\n",
       "</table>\n",
       "</div>"
      ],
      "text/plain": [
       "       forks_count  stargazers_count  contribs_count  commits_count  \\\n",
       "count  1579.000000       1579.000000     1579.000000    1579.000000   \n",
       "mean     12.194427         52.228626        4.592147      15.718809   \n",
       "std      86.366116        333.715558        5.673932      14.305005   \n",
       "min       0.000000          3.000000        2.000000      -1.000000   \n",
       "25%       0.000000          4.000000        2.000000      -1.000000   \n",
       "50%       2.000000          7.000000        3.000000      20.000000   \n",
       "75%       6.000000         19.000000        4.000000      30.000000   \n",
       "max    2444.000000       9734.000000       30.000000      30.000000   \n",
       "\n",
       "       open_issues  closed_issues  open_pull_requests  closed_pull_requests  \\\n",
       "count  1579.000000    1579.000000         1579.000000           1579.000000   \n",
       "mean      0.397720       3.898037           -0.154528              3.131729   \n",
       "std       3.036348       8.365335            2.053205              7.772616   \n",
       "min      -1.000000      -1.000000           -1.000000             -1.000000   \n",
       "25%      -1.000000      -1.000000           -1.000000             -1.000000   \n",
       "50%      -1.000000      -1.000000           -1.000000             -1.000000   \n",
       "75%       0.000000       4.500000            0.000000              3.000000   \n",
       "max      26.000000      30.000000           23.000000             30.000000   \n",
       "\n",
       "       merged_pull_requests  public_repos  public_gists    followers  \\\n",
       "count           1579.000000   1578.000000   1578.000000  1578.000000   \n",
       "mean               2.535782     32.472750      2.233840   104.361850   \n",
       "std                6.862894     33.028027     11.587683   271.698748   \n",
       "min               -1.000000      1.000000      0.000000     0.000000   \n",
       "25%               -1.000000     15.000000      0.000000    12.000000   \n",
       "50%               -1.000000     26.000000      0.000000    33.000000   \n",
       "75%                2.000000     39.000000      1.000000    89.000000   \n",
       "max               30.000000    788.000000    287.000000  3198.000000   \n",
       "\n",
       "         following  documentation_score  \n",
       "count  1578.000000          1579.000000  \n",
       "mean     47.996831             5.006333  \n",
       "std      91.983150             1.435989  \n",
       "min       0.000000             0.000000  \n",
       "25%       3.000000             4.000000  \n",
       "50%      17.000000             5.000000  \n",
       "75%      57.000000             6.000000  \n",
       "max     994.000000             8.000000  "
      ]
     },
     "execution_count": 82,
     "metadata": {},
     "output_type": "execute_result"
    }
   ],
   "source": [
    "df.describe()"
   ]
  },
  {
   "cell_type": "code",
   "execution_count": 83,
   "metadata": {},
   "outputs": [
    {
     "name": "stdout",
     "output_type": "stream",
     "text": [
      "<class 'pandas.core.frame.DataFrame'>\n",
      "RangeIndex: 1579 entries, 0 to 1578\n",
      "Data columns (total 35 columns):\n",
      " #   Column                 Non-Null Count  Dtype  \n",
      "---  ------                 --------------  -----  \n",
      " 0   owner                  1579 non-null   object \n",
      " 1   repo_name              1579 non-null   object \n",
      " 2   repo_html_url          1579 non-null   object \n",
      " 3   topics                 689 non-null    object \n",
      " 4   forks_count            1579 non-null   int64  \n",
      " 5   repo_description       1327 non-null   object \n",
      " 6   stargazers_count       1579 non-null   int64  \n",
      " 7   last_repo_commit_date  1579 non-null   object \n",
      " 8   license                670 non-null    object \n",
      " 9   contribs_count         1579 non-null   int64  \n",
      " 10  language               1434 non-null   object \n",
      " 11  commits_count          1579 non-null   int64  \n",
      " 12  open_issues            1579 non-null   int64  \n",
      " 13  closed_issues          1579 non-null   int64  \n",
      " 14  open_pull_requests     1579 non-null   int64  \n",
      " 15  closed_pull_requests   1579 non-null   int64  \n",
      " 16  merged_pull_requests   1579 non-null   int64  \n",
      " 17  tags                   1579 non-null   object \n",
      " 18  doc_files              1579 non-null   object \n",
      " 19  cicd_files             1579 non-null   object \n",
      " 20  db_files               1579 non-null   object \n",
      " 21  api_files              1579 non-null   object \n",
      " 22  ci_cd_tool             1579 non-null   object \n",
      " 23  database_types         1579 non-null   object \n",
      " 24  name                   1549 non-null   object \n",
      " 25  location               1578 non-null   object \n",
      " 26  email                  743 non-null    object \n",
      " 27  bio                    1241 non-null   object \n",
      " 28  public_repos           1578 non-null   float64\n",
      " 29  public_gists           1578 non-null   float64\n",
      " 30  followers              1578 non-null   float64\n",
      " 31  following              1578 non-null   float64\n",
      " 32  profile_created_at     1578 non-null   object \n",
      " 33  profile_updated_at     1578 non-null   object \n",
      " 34  documentation_score    1579 non-null   int64  \n",
      "dtypes: float64(4), int64(10), object(21)\n",
      "memory usage: 431.9+ KB\n"
     ]
    }
   ],
   "source": [
    "df.info()"
   ]
  },
  {
   "cell_type": "code",
   "execution_count": 84,
   "metadata": {},
   "outputs": [
    {
     "data": {
      "text/plain": [
       "Index(['owner', 'repo_name', 'repo_html_url', 'topics', 'forks_count',\n",
       "       'repo_description', 'stargazers_count', 'last_repo_commit_date',\n",
       "       'license', 'contribs_count', 'language', 'commits_count', 'open_issues',\n",
       "       'closed_issues', 'open_pull_requests', 'closed_pull_requests',\n",
       "       'merged_pull_requests', 'tags', 'doc_files', 'cicd_files', 'db_files',\n",
       "       'api_files', 'ci_cd_tool', 'database_types', 'name', 'location',\n",
       "       'email', 'bio', 'public_repos', 'public_gists', 'followers',\n",
       "       'following', 'profile_created_at', 'profile_updated_at',\n",
       "       'documentation_score'],\n",
       "      dtype='object')"
      ]
     },
     "execution_count": 84,
     "metadata": {},
     "output_type": "execute_result"
    }
   ],
   "source": [
    "column = df.columns\n",
    "column"
   ]
  },
  {
   "cell_type": "code",
   "execution_count": 85,
   "metadata": {},
   "outputs": [
    {
     "data": {
      "text/plain": [
       "owner                      0\n",
       "repo_name                  0\n",
       "repo_html_url              0\n",
       "topics                   890\n",
       "forks_count                0\n",
       "repo_description         252\n",
       "stargazers_count           0\n",
       "last_repo_commit_date      0\n",
       "license                  909\n",
       "contribs_count             0\n",
       "language                 145\n",
       "commits_count              0\n",
       "open_issues                0\n",
       "closed_issues              0\n",
       "open_pull_requests         0\n",
       "closed_pull_requests       0\n",
       "merged_pull_requests       0\n",
       "dtype: int64"
      ]
     },
     "execution_count": 85,
     "metadata": {},
     "output_type": "execute_result"
    }
   ],
   "source": [
    "df[['owner','repo_name','repo_html_url','topics','forks_count',\n",
    "       'repo_description','stargazers_count','last_repo_commit_date',\n",
    "       'license','contribs_count','language','commits_count','open_issues',\n",
    "       'closed_issues','open_pull_requests','closed_pull_requests',\n",
    "       'merged_pull_requests']].isnull().sum()"
   ]
  },
  {
   "cell_type": "code",
   "execution_count": 86,
   "metadata": {},
   "outputs": [
    {
     "data": {
      "text/plain": [
       "tags                     0\n",
       "doc_files                0\n",
       "cicd_files               0\n",
       "db_files                 0\n",
       "api_files                0\n",
       "ci_cd_tool               0\n",
       "database_types           0\n",
       "name                    30\n",
       "location                 1\n",
       "email                  836\n",
       "bio                    338\n",
       "public_repos             1\n",
       "public_gists             1\n",
       "followers                1\n",
       "following                1\n",
       "profile_created_at       1\n",
       "profile_updated_at       1\n",
       "documentation_score      0\n",
       "dtype: int64"
      ]
     },
     "execution_count": 86,
     "metadata": {},
     "output_type": "execute_result"
    }
   ],
   "source": [
    "df[['tags','doc_files','cicd_files','db_files',\n",
    "       'api_files','ci_cd_tool','database_types','name','location',\n",
    "       'email','bio','public_repos','public_gists','followers',\n",
    "       'following','profile_created_at','profile_updated_at',\n",
    "       'documentation_score']].isnull().sum()"
   ]
  },
  {
   "cell_type": "code",
   "execution_count": 87,
   "metadata": {},
   "outputs": [
    {
     "data": {
      "text/html": [
       "<div>\n",
       "<style scoped>\n",
       "    .dataframe tbody tr th:only-of-type {\n",
       "        vertical-align: middle;\n",
       "    }\n",
       "\n",
       "    .dataframe tbody tr th {\n",
       "        vertical-align: top;\n",
       "    }\n",
       "\n",
       "    .dataframe thead th {\n",
       "        text-align: right;\n",
       "    }\n",
       "</style>\n",
       "<table border=\"1\" class=\"dataframe\">\n",
       "  <thead>\n",
       "    <tr style=\"text-align: right;\">\n",
       "      <th></th>\n",
       "      <th>repo_name</th>\n",
       "      <th>repo_html_url</th>\n",
       "      <th>forks_count</th>\n",
       "      <th>repo_description</th>\n",
       "      <th>stargazers_count</th>\n",
       "      <th>last_repo_commit_date</th>\n",
       "      <th>license</th>\n",
       "      <th>contribs_count</th>\n",
       "      <th>language</th>\n",
       "      <th>commits_count</th>\n",
       "      <th>open_issues</th>\n",
       "      <th>closed_issues</th>\n",
       "      <th>open_pull_requests</th>\n",
       "      <th>closed_pull_requests</th>\n",
       "      <th>merged_pull_requests</th>\n",
       "      <th>ci_cd_tool</th>\n",
       "      <th>database_types</th>\n",
       "      <th>name</th>\n",
       "      <th>location</th>\n",
       "      <th>bio</th>\n",
       "      <th>public_repos</th>\n",
       "      <th>public_gists</th>\n",
       "      <th>followers</th>\n",
       "      <th>following</th>\n",
       "      <th>profile_created_at</th>\n",
       "      <th>profile_updated_at</th>\n",
       "      <th>documentation_score</th>\n",
       "    </tr>\n",
       "  </thead>\n",
       "  <tbody>\n",
       "    <tr>\n",
       "      <th>0</th>\n",
       "      <td>NTI_project</td>\n",
       "      <td>https://github.com/mohamedmagdy/NTI_project</td>\n",
       "      <td>1</td>\n",
       "      <td>A repository for code that has been written du...</td>\n",
       "      <td>3</td>\n",
       "      <td>2023-10-25T15:54:44Z</td>\n",
       "      <td>NaN</td>\n",
       "      <td>4</td>\n",
       "      <td>Python</td>\n",
       "      <td>-1</td>\n",
       "      <td>0</td>\n",
       "      <td>1</td>\n",
       "      <td>0</td>\n",
       "      <td>1</td>\n",
       "      <td>1</td>\n",
       "      <td>[]</td>\n",
       "      <td>['']</td>\n",
       "      <td>Mohamed Magdy</td>\n",
       "      <td>Egypt</td>\n",
       "      <td>@ProjoMania Founder\\nYouTube: https://bit.ly/3...</td>\n",
       "      <td>17.0</td>\n",
       "      <td>0.0</td>\n",
       "      <td>179.0</td>\n",
       "      <td>4.0</td>\n",
       "      <td>2013-07-11T04:36:16Z</td>\n",
       "      <td>2024-10-09T17:41:48Z</td>\n",
       "      <td>1</td>\n",
       "    </tr>\n",
       "    <tr>\n",
       "      <th>1</th>\n",
       "      <td>harvard-computer-architecture-java-simulator</td>\n",
       "      <td>https://github.com/mathewhany/harvard-computer...</td>\n",
       "      <td>2</td>\n",
       "      <td>A simulator of the Harvard microarchitecture u...</td>\n",
       "      <td>3</td>\n",
       "      <td>2024-04-26T12:35:38Z</td>\n",
       "      <td>NaN</td>\n",
       "      <td>5</td>\n",
       "      <td>Java</td>\n",
       "      <td>24</td>\n",
       "      <td>-1</td>\n",
       "      <td>-1</td>\n",
       "      <td>-1</td>\n",
       "      <td>-1</td>\n",
       "      <td>-1</td>\n",
       "      <td>[]</td>\n",
       "      <td>['']</td>\n",
       "      <td>Mathew Hany</td>\n",
       "      <td>Cairo, Egypt</td>\n",
       "      <td>Backend Intern @Instabug | 7th semester CSE St...</td>\n",
       "      <td>39.0</td>\n",
       "      <td>2.0</td>\n",
       "      <td>121.0</td>\n",
       "      <td>87.0</td>\n",
       "      <td>2013-04-30T10:45:30Z</td>\n",
       "      <td>2024-09-21T11:25:39Z</td>\n",
       "      <td>1</td>\n",
       "    </tr>\n",
       "    <tr>\n",
       "      <th>2</th>\n",
       "      <td>awesome-datascience</td>\n",
       "      <td>https://github.com/mustafaelnahas/awesome-data...</td>\n",
       "      <td>6</td>\n",
       "      <td>:memo: An awesome Data Science repository to l...</td>\n",
       "      <td>3</td>\n",
       "      <td>2024-09-01T15:18:41Z</td>\n",
       "      <td>MIT License</td>\n",
       "      <td>30</td>\n",
       "      <td>NaN</td>\n",
       "      <td>30</td>\n",
       "      <td>-1</td>\n",
       "      <td>-1</td>\n",
       "      <td>-1</td>\n",
       "      <td>-1</td>\n",
       "      <td>-1</td>\n",
       "      <td>['Travis CI']</td>\n",
       "      <td>['']</td>\n",
       "      <td>Mustafa Othman</td>\n",
       "      <td>Egypt</td>\n",
       "      <td>NaN</td>\n",
       "      <td>16.0</td>\n",
       "      <td>0.0</td>\n",
       "      <td>97.0</td>\n",
       "      <td>40.0</td>\n",
       "      <td>2013-03-01T11:55:51Z</td>\n",
       "      <td>2023-10-28T12:47:53Z</td>\n",
       "      <td>1</td>\n",
       "    </tr>\n",
       "    <tr>\n",
       "      <th>3</th>\n",
       "      <td>free-data-science-books</td>\n",
       "      <td>https://github.com/mustafaelnahas/free-data-sc...</td>\n",
       "      <td>5</td>\n",
       "      <td>Free resources for learning data science</td>\n",
       "      <td>3</td>\n",
       "      <td>2024-09-01T15:19:09Z</td>\n",
       "      <td>The Unlicense</td>\n",
       "      <td>14</td>\n",
       "      <td>NaN</td>\n",
       "      <td>30</td>\n",
       "      <td>-1</td>\n",
       "      <td>-1</td>\n",
       "      <td>-1</td>\n",
       "      <td>-1</td>\n",
       "      <td>-1</td>\n",
       "      <td>['Travis CI']</td>\n",
       "      <td>['']</td>\n",
       "      <td>Mustafa Othman</td>\n",
       "      <td>Egypt</td>\n",
       "      <td>NaN</td>\n",
       "      <td>16.0</td>\n",
       "      <td>0.0</td>\n",
       "      <td>97.0</td>\n",
       "      <td>40.0</td>\n",
       "      <td>2013-03-01T11:55:51Z</td>\n",
       "      <td>2023-10-28T12:47:53Z</td>\n",
       "      <td>1</td>\n",
       "    </tr>\n",
       "    <tr>\n",
       "      <th>4</th>\n",
       "      <td>alps_rfid_n6737</td>\n",
       "      <td>https://github.com/amorenew/alps_rfid_n6737</td>\n",
       "      <td>4</td>\n",
       "      <td>NaN</td>\n",
       "      <td>3</td>\n",
       "      <td>2024-04-17T17:31:28Z</td>\n",
       "      <td>Other</td>\n",
       "      <td>3</td>\n",
       "      <td>Kotlin</td>\n",
       "      <td>24</td>\n",
       "      <td>3</td>\n",
       "      <td>11</td>\n",
       "      <td>0</td>\n",
       "      <td>6</td>\n",
       "      <td>6</td>\n",
       "      <td>['Travis CI']</td>\n",
       "      <td>['']</td>\n",
       "      <td>Amr Abd El Wahab El Desouky</td>\n",
       "      <td>Egypt</td>\n",
       "      <td>Mobile Developer\\nAndroid, iOS, React Native, ...</td>\n",
       "      <td>135.0</td>\n",
       "      <td>5.0</td>\n",
       "      <td>52.0</td>\n",
       "      <td>3.0</td>\n",
       "      <td>2012-11-20T08:52:32Z</td>\n",
       "      <td>2024-10-01T19:58:54Z</td>\n",
       "      <td>0</td>\n",
       "    </tr>\n",
       "  </tbody>\n",
       "</table>\n",
       "</div>"
      ],
      "text/plain": [
       "                                      repo_name  \\\n",
       "0                                   NTI_project   \n",
       "1  harvard-computer-architecture-java-simulator   \n",
       "2                           awesome-datascience   \n",
       "3                       free-data-science-books   \n",
       "4                               alps_rfid_n6737   \n",
       "\n",
       "                                       repo_html_url  forks_count  \\\n",
       "0        https://github.com/mohamedmagdy/NTI_project            1   \n",
       "1  https://github.com/mathewhany/harvard-computer...            2   \n",
       "2  https://github.com/mustafaelnahas/awesome-data...            6   \n",
       "3  https://github.com/mustafaelnahas/free-data-sc...            5   \n",
       "4        https://github.com/amorenew/alps_rfid_n6737            4   \n",
       "\n",
       "                                    repo_description  stargazers_count  \\\n",
       "0  A repository for code that has been written du...                 3   \n",
       "1  A simulator of the Harvard microarchitecture u...                 3   \n",
       "2  :memo: An awesome Data Science repository to l...                 3   \n",
       "3           Free resources for learning data science                 3   \n",
       "4                                                NaN                 3   \n",
       "\n",
       "  last_repo_commit_date        license  contribs_count language  \\\n",
       "0  2023-10-25T15:54:44Z            NaN               4   Python   \n",
       "1  2024-04-26T12:35:38Z            NaN               5     Java   \n",
       "2  2024-09-01T15:18:41Z    MIT License              30      NaN   \n",
       "3  2024-09-01T15:19:09Z  The Unlicense              14      NaN   \n",
       "4  2024-04-17T17:31:28Z          Other               3   Kotlin   \n",
       "\n",
       "   commits_count  open_issues  closed_issues  open_pull_requests  \\\n",
       "0             -1            0              1                   0   \n",
       "1             24           -1             -1                  -1   \n",
       "2             30           -1             -1                  -1   \n",
       "3             30           -1             -1                  -1   \n",
       "4             24            3             11                   0   \n",
       "\n",
       "   closed_pull_requests  merged_pull_requests     ci_cd_tool database_types  \\\n",
       "0                     1                     1             []           ['']   \n",
       "1                    -1                    -1             []           ['']   \n",
       "2                    -1                    -1  ['Travis CI']           ['']   \n",
       "3                    -1                    -1  ['Travis CI']           ['']   \n",
       "4                     6                     6  ['Travis CI']           ['']   \n",
       "\n",
       "                          name      location  \\\n",
       "0                Mohamed Magdy         Egypt   \n",
       "1                  Mathew Hany  Cairo, Egypt   \n",
       "2               Mustafa Othman         Egypt   \n",
       "3               Mustafa Othman         Egypt   \n",
       "4  Amr Abd El Wahab El Desouky         Egypt   \n",
       "\n",
       "                                                 bio  public_repos  \\\n",
       "0  @ProjoMania Founder\\nYouTube: https://bit.ly/3...          17.0   \n",
       "1  Backend Intern @Instabug | 7th semester CSE St...          39.0   \n",
       "2                                                NaN          16.0   \n",
       "3                                                NaN          16.0   \n",
       "4  Mobile Developer\\nAndroid, iOS, React Native, ...         135.0   \n",
       "\n",
       "   public_gists  followers  following    profile_created_at  \\\n",
       "0           0.0      179.0        4.0  2013-07-11T04:36:16Z   \n",
       "1           2.0      121.0       87.0  2013-04-30T10:45:30Z   \n",
       "2           0.0       97.0       40.0  2013-03-01T11:55:51Z   \n",
       "3           0.0       97.0       40.0  2013-03-01T11:55:51Z   \n",
       "4           5.0       52.0        3.0  2012-11-20T08:52:32Z   \n",
       "\n",
       "     profile_updated_at  documentation_score  \n",
       "0  2024-10-09T17:41:48Z                    1  \n",
       "1  2024-09-21T11:25:39Z                    1  \n",
       "2  2023-10-28T12:47:53Z                    1  \n",
       "3  2023-10-28T12:47:53Z                    1  \n",
       "4  2024-10-01T19:58:54Z                    0  "
      ]
     },
     "execution_count": 87,
     "metadata": {},
     "output_type": "execute_result"
    }
   ],
   "source": [
    "df = df.drop(columns=['topics','owner','email','tags','doc_files','cicd_files','db_files','api_files'])\n",
    "df.head()"
   ]
  },
  {
   "cell_type": "code",
   "execution_count": 88,
   "metadata": {},
   "outputs": [],
   "source": [
    "df['repo_description'] = df['repo_description'].fillna('Unknown')\n",
    "df['language'] = df['language'].fillna('Unknown')\n",
    "df['license'] = df['license'].fillna('Unknown')\n",
    "df['name'] = df['name'].fillna('Unknown')\n",
    "df['bio'] = df['bio'].fillna('Unknown')"
   ]
  },
  {
   "cell_type": "code",
   "execution_count": 89,
   "metadata": {},
   "outputs": [],
   "source": [
    "df = df.dropna()"
   ]
  },
  {
   "cell_type": "code",
   "execution_count": 90,
   "metadata": {},
   "outputs": [
    {
     "data": {
      "text/plain": [
       "license                  0\n",
       "repo_name                0\n",
       "repo_html_url            0\n",
       "forks_count              0\n",
       "repo_description         0\n",
       "stargazers_count         0\n",
       "last_repo_commit_date    0\n",
       "contribs_count           0\n",
       "language                 0\n",
       "commits_count            0\n",
       "open_issues              0\n",
       "closed_issues            0\n",
       "open_pull_requests       0\n",
       "closed_pull_requests     0\n",
       "merged_pull_requests     0\n",
       "dtype: int64"
      ]
     },
     "execution_count": 90,
     "metadata": {},
     "output_type": "execute_result"
    }
   ],
   "source": [
    "df[['license','repo_name','repo_html_url','forks_count',\n",
    "       'repo_description','stargazers_count','last_repo_commit_date'\n",
    "        ,'contribs_count','language','commits_count','open_issues',\n",
    "       'closed_issues','open_pull_requests','closed_pull_requests',\n",
    "       'merged_pull_requests']].isnull().sum()"
   ]
  },
  {
   "cell_type": "code",
   "execution_count": 91,
   "metadata": {},
   "outputs": [
    {
     "data": {
      "text/plain": [
       "ci_cd_tool             0\n",
       "database_types         0\n",
       "name                   0\n",
       "location               0\n",
       "bio                    0\n",
       "public_repos           0\n",
       "public_gists           0\n",
       "followers              0\n",
       "following              0\n",
       "profile_created_at     0\n",
       "profile_updated_at     0\n",
       "documentation_score    0\n",
       "dtype: int64"
      ]
     },
     "execution_count": 91,
     "metadata": {},
     "output_type": "execute_result"
    }
   ],
   "source": [
    "df[['ci_cd_tool','database_types','name','location',\n",
    "       'bio','public_repos','public_gists','followers',\n",
    "       'following','profile_created_at','profile_updated_at',\n",
    "       'documentation_score']].isnull().sum()"
   ]
  },
  {
   "cell_type": "code",
   "execution_count": 92,
   "metadata": {},
   "outputs": [
    {
     "data": {
      "text/plain": [
       "np.int64(0)"
      ]
     },
     "execution_count": 92,
     "metadata": {},
     "output_type": "execute_result"
    }
   ],
   "source": [
    "df.duplicated().sum()"
   ]
  },
  {
   "cell_type": "code",
   "execution_count": 93,
   "metadata": {},
   "outputs": [
    {
     "name": "stdout",
     "output_type": "stream",
     "text": [
      "repo_name                 object\n",
      "repo_html_url             object\n",
      "forks_count                int64\n",
      "repo_description          object\n",
      "stargazers_count           int64\n",
      "last_repo_commit_date     object\n",
      "license                   object\n",
      "contribs_count             int64\n",
      "language                  object\n",
      "commits_count              int64\n",
      "open_issues                int64\n",
      "closed_issues              int64\n",
      "open_pull_requests         int64\n",
      "closed_pull_requests       int64\n",
      "merged_pull_requests       int64\n",
      "ci_cd_tool                object\n",
      "database_types            object\n",
      "name                      object\n",
      "location                  object\n",
      "bio                       object\n",
      "public_repos             float64\n",
      "public_gists             float64\n",
      "followers                float64\n",
      "following                float64\n",
      "profile_created_at        object\n",
      "profile_updated_at        object\n",
      "documentation_score        int64\n",
      "dtype: object\n"
     ]
    }
   ],
   "source": [
    "print(df.dtypes)"
   ]
  },
  {
   "cell_type": "code",
   "execution_count": 94,
   "metadata": {},
   "outputs": [
    {
     "data": {
      "text/plain": [
       "array(['2023-10-25T15:54:44Z', '2024-04-26T12:35:38Z',\n",
       "       '2024-09-01T15:18:41Z', ..., '2024-08-19 11:50:07+00:00',\n",
       "       '2024-05-28 14:53:12+00:00', '2024-10-04 10:24:50+00:00'],\n",
       "      shape=(1567,), dtype=object)"
      ]
     },
     "execution_count": 94,
     "metadata": {},
     "output_type": "execute_result"
    }
   ],
   "source": [
    "df['last_repo_commit_date'].unique()"
   ]
  },
  {
   "cell_type": "code",
   "execution_count": 95,
   "metadata": {},
   "outputs": [],
   "source": [
    "df['new_last_repo_commit_date'] = df['last_repo_commit_date'].apply(lambda x:x[0:10])\n",
    "df['new_last_repo_commit_date'] = pd.to_datetime(df['new_last_repo_commit_date'])"
   ]
  },
  {
   "cell_type": "code",
   "execution_count": 96,
   "metadata": {},
   "outputs": [],
   "source": [
    "df['new_profile_created_at'] = df['profile_created_at'].apply(lambda x:x[0:10])\n",
    "df['new_profile_created_at'] = pd.to_datetime(df['new_profile_created_at'])"
   ]
  },
  {
   "cell_type": "code",
   "execution_count": 97,
   "metadata": {},
   "outputs": [],
   "source": [
    "df['new_profile_updated_at'] = df['profile_updated_at'].apply(lambda x:x[0:10])\n",
    "df['new_profile_updated_at'] = pd.to_datetime(df['new_profile_updated_at'])"
   ]
  },
  {
   "cell_type": "code",
   "execution_count": 98,
   "metadata": {},
   "outputs": [],
   "source": [
    "df = df.drop(columns=['profile_updated_at','profile_created_at','last_repo_commit_date'])"
   ]
  },
  {
   "cell_type": "code",
   "execution_count": 99,
   "metadata": {},
   "outputs": [],
   "source": [
    "df['public_repos'] = df['public_repos'].astype(int)\n",
    "df['public_gists'] = df['public_gists'].astype(int)\n",
    "df['following'] = df['following'].astype(int)\n",
    "df['followers'] = df['followers'].astype(int)"
   ]
  },
  {
   "cell_type": "code",
   "execution_count": 100,
   "metadata": {},
   "outputs": [
    {
     "data": {
      "text/html": [
       "<div>\n",
       "<style scoped>\n",
       "    .dataframe tbody tr th:only-of-type {\n",
       "        vertical-align: middle;\n",
       "    }\n",
       "\n",
       "    .dataframe tbody tr th {\n",
       "        vertical-align: top;\n",
       "    }\n",
       "\n",
       "    .dataframe thead th {\n",
       "        text-align: right;\n",
       "    }\n",
       "</style>\n",
       "<table border=\"1\" class=\"dataframe\">\n",
       "  <thead>\n",
       "    <tr style=\"text-align: right;\">\n",
       "      <th></th>\n",
       "      <th>repo_name</th>\n",
       "      <th>repo_html_url</th>\n",
       "      <th>forks_count</th>\n",
       "      <th>repo_description</th>\n",
       "      <th>stargazers_count</th>\n",
       "      <th>license</th>\n",
       "      <th>contribs_count</th>\n",
       "      <th>language</th>\n",
       "      <th>commits_count</th>\n",
       "      <th>open_issues</th>\n",
       "      <th>closed_issues</th>\n",
       "      <th>open_pull_requests</th>\n",
       "      <th>closed_pull_requests</th>\n",
       "      <th>merged_pull_requests</th>\n",
       "      <th>ci_cd_tool</th>\n",
       "      <th>database_types</th>\n",
       "      <th>name</th>\n",
       "      <th>location</th>\n",
       "      <th>bio</th>\n",
       "      <th>public_repos</th>\n",
       "      <th>public_gists</th>\n",
       "      <th>followers</th>\n",
       "      <th>following</th>\n",
       "      <th>documentation_score</th>\n",
       "      <th>new_last_repo_commit_date</th>\n",
       "      <th>new_profile_created_at</th>\n",
       "      <th>new_profile_updated_at</th>\n",
       "    </tr>\n",
       "  </thead>\n",
       "  <tbody>\n",
       "    <tr>\n",
       "      <th>0</th>\n",
       "      <td>NTI_project</td>\n",
       "      <td>https://github.com/mohamedmagdy/NTI_project</td>\n",
       "      <td>1</td>\n",
       "      <td>A repository for code that has been written du...</td>\n",
       "      <td>3</td>\n",
       "      <td>Unknown</td>\n",
       "      <td>4</td>\n",
       "      <td>Python</td>\n",
       "      <td>-1</td>\n",
       "      <td>0</td>\n",
       "      <td>1</td>\n",
       "      <td>0</td>\n",
       "      <td>1</td>\n",
       "      <td>1</td>\n",
       "      <td>[]</td>\n",
       "      <td>['']</td>\n",
       "      <td>Mohamed Magdy</td>\n",
       "      <td>Egypt</td>\n",
       "      <td>@ProjoMania Founder\\nYouTube: https://bit.ly/3...</td>\n",
       "      <td>17</td>\n",
       "      <td>0</td>\n",
       "      <td>179</td>\n",
       "      <td>4</td>\n",
       "      <td>1</td>\n",
       "      <td>2023-10-25</td>\n",
       "      <td>2013-07-11</td>\n",
       "      <td>2024-10-09</td>\n",
       "    </tr>\n",
       "    <tr>\n",
       "      <th>1</th>\n",
       "      <td>harvard-computer-architecture-java-simulator</td>\n",
       "      <td>https://github.com/mathewhany/harvard-computer...</td>\n",
       "      <td>2</td>\n",
       "      <td>A simulator of the Harvard microarchitecture u...</td>\n",
       "      <td>3</td>\n",
       "      <td>Unknown</td>\n",
       "      <td>5</td>\n",
       "      <td>Java</td>\n",
       "      <td>24</td>\n",
       "      <td>-1</td>\n",
       "      <td>-1</td>\n",
       "      <td>-1</td>\n",
       "      <td>-1</td>\n",
       "      <td>-1</td>\n",
       "      <td>[]</td>\n",
       "      <td>['']</td>\n",
       "      <td>Mathew Hany</td>\n",
       "      <td>Cairo, Egypt</td>\n",
       "      <td>Backend Intern @Instabug | 7th semester CSE St...</td>\n",
       "      <td>39</td>\n",
       "      <td>2</td>\n",
       "      <td>121</td>\n",
       "      <td>87</td>\n",
       "      <td>1</td>\n",
       "      <td>2024-04-26</td>\n",
       "      <td>2013-04-30</td>\n",
       "      <td>2024-09-21</td>\n",
       "    </tr>\n",
       "    <tr>\n",
       "      <th>2</th>\n",
       "      <td>awesome-datascience</td>\n",
       "      <td>https://github.com/mustafaelnahas/awesome-data...</td>\n",
       "      <td>6</td>\n",
       "      <td>:memo: An awesome Data Science repository to l...</td>\n",
       "      <td>3</td>\n",
       "      <td>MIT License</td>\n",
       "      <td>30</td>\n",
       "      <td>Unknown</td>\n",
       "      <td>30</td>\n",
       "      <td>-1</td>\n",
       "      <td>-1</td>\n",
       "      <td>-1</td>\n",
       "      <td>-1</td>\n",
       "      <td>-1</td>\n",
       "      <td>['Travis CI']</td>\n",
       "      <td>['']</td>\n",
       "      <td>Mustafa Othman</td>\n",
       "      <td>Egypt</td>\n",
       "      <td>Unknown</td>\n",
       "      <td>16</td>\n",
       "      <td>0</td>\n",
       "      <td>97</td>\n",
       "      <td>40</td>\n",
       "      <td>1</td>\n",
       "      <td>2024-09-01</td>\n",
       "      <td>2013-03-01</td>\n",
       "      <td>2023-10-28</td>\n",
       "    </tr>\n",
       "    <tr>\n",
       "      <th>3</th>\n",
       "      <td>free-data-science-books</td>\n",
       "      <td>https://github.com/mustafaelnahas/free-data-sc...</td>\n",
       "      <td>5</td>\n",
       "      <td>Free resources for learning data science</td>\n",
       "      <td>3</td>\n",
       "      <td>The Unlicense</td>\n",
       "      <td>14</td>\n",
       "      <td>Unknown</td>\n",
       "      <td>30</td>\n",
       "      <td>-1</td>\n",
       "      <td>-1</td>\n",
       "      <td>-1</td>\n",
       "      <td>-1</td>\n",
       "      <td>-1</td>\n",
       "      <td>['Travis CI']</td>\n",
       "      <td>['']</td>\n",
       "      <td>Mustafa Othman</td>\n",
       "      <td>Egypt</td>\n",
       "      <td>Unknown</td>\n",
       "      <td>16</td>\n",
       "      <td>0</td>\n",
       "      <td>97</td>\n",
       "      <td>40</td>\n",
       "      <td>1</td>\n",
       "      <td>2024-09-01</td>\n",
       "      <td>2013-03-01</td>\n",
       "      <td>2023-10-28</td>\n",
       "    </tr>\n",
       "    <tr>\n",
       "      <th>4</th>\n",
       "      <td>alps_rfid_n6737</td>\n",
       "      <td>https://github.com/amorenew/alps_rfid_n6737</td>\n",
       "      <td>4</td>\n",
       "      <td>Unknown</td>\n",
       "      <td>3</td>\n",
       "      <td>Other</td>\n",
       "      <td>3</td>\n",
       "      <td>Kotlin</td>\n",
       "      <td>24</td>\n",
       "      <td>3</td>\n",
       "      <td>11</td>\n",
       "      <td>0</td>\n",
       "      <td>6</td>\n",
       "      <td>6</td>\n",
       "      <td>['Travis CI']</td>\n",
       "      <td>['']</td>\n",
       "      <td>Amr Abd El Wahab El Desouky</td>\n",
       "      <td>Egypt</td>\n",
       "      <td>Mobile Developer\\nAndroid, iOS, React Native, ...</td>\n",
       "      <td>135</td>\n",
       "      <td>5</td>\n",
       "      <td>52</td>\n",
       "      <td>3</td>\n",
       "      <td>0</td>\n",
       "      <td>2024-04-17</td>\n",
       "      <td>2012-11-20</td>\n",
       "      <td>2024-10-01</td>\n",
       "    </tr>\n",
       "  </tbody>\n",
       "</table>\n",
       "</div>"
      ],
      "text/plain": [
       "                                      repo_name  \\\n",
       "0                                   NTI_project   \n",
       "1  harvard-computer-architecture-java-simulator   \n",
       "2                           awesome-datascience   \n",
       "3                       free-data-science-books   \n",
       "4                               alps_rfid_n6737   \n",
       "\n",
       "                                       repo_html_url  forks_count  \\\n",
       "0        https://github.com/mohamedmagdy/NTI_project            1   \n",
       "1  https://github.com/mathewhany/harvard-computer...            2   \n",
       "2  https://github.com/mustafaelnahas/awesome-data...            6   \n",
       "3  https://github.com/mustafaelnahas/free-data-sc...            5   \n",
       "4        https://github.com/amorenew/alps_rfid_n6737            4   \n",
       "\n",
       "                                    repo_description  stargazers_count  \\\n",
       "0  A repository for code that has been written du...                 3   \n",
       "1  A simulator of the Harvard microarchitecture u...                 3   \n",
       "2  :memo: An awesome Data Science repository to l...                 3   \n",
       "3           Free resources for learning data science                 3   \n",
       "4                                            Unknown                 3   \n",
       "\n",
       "         license  contribs_count language  commits_count  open_issues  \\\n",
       "0        Unknown               4   Python             -1            0   \n",
       "1        Unknown               5     Java             24           -1   \n",
       "2    MIT License              30  Unknown             30           -1   \n",
       "3  The Unlicense              14  Unknown             30           -1   \n",
       "4          Other               3   Kotlin             24            3   \n",
       "\n",
       "   closed_issues  open_pull_requests  closed_pull_requests  \\\n",
       "0              1                   0                     1   \n",
       "1             -1                  -1                    -1   \n",
       "2             -1                  -1                    -1   \n",
       "3             -1                  -1                    -1   \n",
       "4             11                   0                     6   \n",
       "\n",
       "   merged_pull_requests     ci_cd_tool database_types  \\\n",
       "0                     1             []           ['']   \n",
       "1                    -1             []           ['']   \n",
       "2                    -1  ['Travis CI']           ['']   \n",
       "3                    -1  ['Travis CI']           ['']   \n",
       "4                     6  ['Travis CI']           ['']   \n",
       "\n",
       "                          name      location  \\\n",
       "0                Mohamed Magdy         Egypt   \n",
       "1                  Mathew Hany  Cairo, Egypt   \n",
       "2               Mustafa Othman         Egypt   \n",
       "3               Mustafa Othman         Egypt   \n",
       "4  Amr Abd El Wahab El Desouky         Egypt   \n",
       "\n",
       "                                                 bio  public_repos  \\\n",
       "0  @ProjoMania Founder\\nYouTube: https://bit.ly/3...            17   \n",
       "1  Backend Intern @Instabug | 7th semester CSE St...            39   \n",
       "2                                            Unknown            16   \n",
       "3                                            Unknown            16   \n",
       "4  Mobile Developer\\nAndroid, iOS, React Native, ...           135   \n",
       "\n",
       "   public_gists  followers  following  documentation_score  \\\n",
       "0             0        179          4                    1   \n",
       "1             2        121         87                    1   \n",
       "2             0         97         40                    1   \n",
       "3             0         97         40                    1   \n",
       "4             5         52          3                    0   \n",
       "\n",
       "  new_last_repo_commit_date new_profile_created_at new_profile_updated_at  \n",
       "0                2023-10-25             2013-07-11             2024-10-09  \n",
       "1                2024-04-26             2013-04-30             2024-09-21  \n",
       "2                2024-09-01             2013-03-01             2023-10-28  \n",
       "3                2024-09-01             2013-03-01             2023-10-28  \n",
       "4                2024-04-17             2012-11-20             2024-10-01  "
      ]
     },
     "execution_count": 100,
     "metadata": {},
     "output_type": "execute_result"
    }
   ],
   "source": [
    "pd.set_option('display.max_columns',None)\n",
    "df.head()"
   ]
  },
  {
   "cell_type": "code",
   "execution_count": 101,
   "metadata": {},
   "outputs": [],
   "source": [
    "df['repo_name'] = df['repo_name'].str.lower().str.strip()"
   ]
  },
  {
   "cell_type": "code",
   "execution_count": 102,
   "metadata": {},
   "outputs": [
    {
     "data": {
      "text/plain": [
       "repo_name\n",
       "ecommerce                      4\n",
       "airbnb_clone                   3\n",
       "awesome-interview-questions    3\n",
       "frontend                       3\n",
       "license-plate-recognition      3\n",
       "                              ..\n",
       "filament-themes                1\n",
       "filament-sitemap               1\n",
       "filament-menus                 1\n",
       "filament-excel                 1\n",
       "fustat                         1\n",
       "Name: count, Length: 1526, dtype: int64"
      ]
     },
     "execution_count": 102,
     "metadata": {},
     "output_type": "execute_result"
    }
   ],
   "source": [
    "df['repo_name'].value_counts()"
   ]
  },
  {
   "cell_type": "code",
   "execution_count": 103,
   "metadata": {},
   "outputs": [],
   "source": [
    "df['repo_description'] = df['repo_description'].str.lower().str.strip()"
   ]
  },
  {
   "cell_type": "code",
   "execution_count": 104,
   "metadata": {},
   "outputs": [
    {
     "data": {
      "text/plain": [
       "repo_description\n",
       "unknown                                                                                                                                                                                                                                  252\n",
       "graduation project                                                                                                                                                                                                                         3\n",
       "bloomsy is a stunning plants store, an e-commerce platform that offers a wide variety of indoor and outdoor plants. it is dedicated to providing plant enthusiasts with a seamless shopping experience through its user-friendly app.      3\n",
       ":octocat: a curated awesome list of lists of interview questions. feel free to contribute! :mortar_board:                                                                                                                                  3\n",
       "no bs high-performance, minimal and safe menus library                                                                                                                                                                                     2\n",
       "                                                                                                                                                                                                                                        ... \n",
       "cairo is a contemporary arabic and latin typeface family. mohamed gaber extended the famous latin typeface family titillum web to support the arabic script, with a design that is based on the kufi calligraphic style.                   1\n",
       "blaka is an experimental typeface, enriching the gothic feeling of blackletter by enhancing the geometric features to create midgrounds with the arabic kufic style for the arabic letterforms.                                            1\n",
       "alexandria is a variable open-source font ranging from thin to black, increasing the ability to use the font in various applications, from long text using the light weights to short headlines using the heavy thick weights.             1\n",
       "this package to integrate your application with aramex services ( shipping - tracking - rate calculation )                                                                                                                                 1\n",
       "fustat font-family                                                                                                                                                                                                                         1\n",
       "Name: count, Length: 1305, dtype: int64"
      ]
     },
     "execution_count": 104,
     "metadata": {},
     "output_type": "execute_result"
    }
   ],
   "source": [
    "df['repo_description'].value_counts()"
   ]
  },
  {
   "cell_type": "code",
   "execution_count": 105,
   "metadata": {},
   "outputs": [
    {
     "name": "stdout",
     "output_type": "stream",
     "text": [
      "Requirement already satisfied: emoji in c:\\users\\tpc-store\\appdata\\local\\programs\\python\\python313\\lib\\site-packages (2.14.1)\n"
     ]
    },
    {
     "name": "stderr",
     "output_type": "stream",
     "text": [
      "\n",
      "[notice] A new release of pip is available: 24.3.1 -> 25.1.1\n",
      "[notice] To update, run: python.exe -m pip install --upgrade pip\n"
     ]
    }
   ],
   "source": [
    "! pip install emoji\n",
    "import emoji\n",
    "import re"
   ]
  },
  {
   "cell_type": "code",
   "execution_count": 106,
   "metadata": {},
   "outputs": [],
   "source": [
    "def remove_emoji(text):\n",
    "    return emoji.demojize(text)"
   ]
  },
  {
   "cell_type": "code",
   "execution_count": 107,
   "metadata": {},
   "outputs": [],
   "source": [
    "for column in df.columns :\n",
    "    if df[column].dtype == 'object' :\n",
    "        df[column] = df[column].apply(remove_emoji)"
   ]
  },
  {
   "cell_type": "code",
   "execution_count": 108,
   "metadata": {},
   "outputs": [],
   "source": [
    "df['language'] = df['language'].str.strip()"
   ]
  },
  {
   "cell_type": "code",
   "execution_count": 109,
   "metadata": {},
   "outputs": [
    {
     "data": {
      "text/plain": [
       "language\n",
       "Python               281\n",
       "JavaScript           189\n",
       "Unknown              145\n",
       "Dart                 126\n",
       "C++                  118\n",
       "Java                 114\n",
       "TypeScript           100\n",
       "PHP                   91\n",
       "C#                    71\n",
       "HTML                  60\n",
       "Kotlin                47\n",
       "C                     45\n",
       "CSS                   33\n",
       "Shell                 19\n",
       "Verilog               15\n",
       "Swift                 12\n",
       "Ruby                  11\n",
       "Vue                   11\n",
       "Rust                  10\n",
       "Go                     9\n",
       "Lua                    8\n",
       "Makefile               7\n",
       "VHDL                   6\n",
       "Assembly               6\n",
       "Blade                  5\n",
       "MATLAB                 5\n",
       "TeX                    4\n",
       "ShaderLab              4\n",
       "SCSS                   3\n",
       "EJS                    3\n",
       "MDX                    3\n",
       "Yacc                   2\n",
       "Astro                  2\n",
       "Scala                  2\n",
       "Objective-C            2\n",
       "Dockerfile             1\n",
       "Haxe                   1\n",
       "TSQL                   1\n",
       "SystemVerilog          1\n",
       "CMake                  1\n",
       "Visual Basic .NET      1\n",
       "Batchfile              1\n",
       "GDScript               1\n",
       "YARA                   1\n",
       "Name: count, dtype: int64"
      ]
     },
     "execution_count": 109,
     "metadata": {},
     "output_type": "execute_result"
    }
   ],
   "source": [
    "df['language'].value_counts()"
   ]
  },
  {
   "cell_type": "code",
   "execution_count": 110,
   "metadata": {},
   "outputs": [
    {
     "data": {
      "text/html": [
       "<div>\n",
       "<style scoped>\n",
       "    .dataframe tbody tr th:only-of-type {\n",
       "        vertical-align: middle;\n",
       "    }\n",
       "\n",
       "    .dataframe tbody tr th {\n",
       "        vertical-align: top;\n",
       "    }\n",
       "\n",
       "    .dataframe thead th {\n",
       "        text-align: right;\n",
       "    }\n",
       "</style>\n",
       "<table border=\"1\" class=\"dataframe\">\n",
       "  <thead>\n",
       "    <tr style=\"text-align: right;\">\n",
       "      <th></th>\n",
       "      <th>forks_count</th>\n",
       "      <th>stargazers_count</th>\n",
       "      <th>contribs_count</th>\n",
       "      <th>commits_count</th>\n",
       "      <th>open_issues</th>\n",
       "      <th>closed_issues</th>\n",
       "      <th>open_pull_requests</th>\n",
       "      <th>closed_pull_requests</th>\n",
       "      <th>merged_pull_requests</th>\n",
       "      <th>public_repos</th>\n",
       "      <th>public_gists</th>\n",
       "      <th>followers</th>\n",
       "      <th>following</th>\n",
       "      <th>documentation_score</th>\n",
       "      <th>new_last_repo_commit_date</th>\n",
       "      <th>new_profile_created_at</th>\n",
       "      <th>new_profile_updated_at</th>\n",
       "    </tr>\n",
       "  </thead>\n",
       "  <tbody>\n",
       "    <tr>\n",
       "      <th>count</th>\n",
       "      <td>1578.000000</td>\n",
       "      <td>1578.000000</td>\n",
       "      <td>1578.000000</td>\n",
       "      <td>1578.000000</td>\n",
       "      <td>1578.000000</td>\n",
       "      <td>1578.000000</td>\n",
       "      <td>1578.000000</td>\n",
       "      <td>1578.000000</td>\n",
       "      <td>1578.000000</td>\n",
       "      <td>1578.000000</td>\n",
       "      <td>1578.000000</td>\n",
       "      <td>1578.000000</td>\n",
       "      <td>1578.000000</td>\n",
       "      <td>1578.000000</td>\n",
       "      <td>1578</td>\n",
       "      <td>1578</td>\n",
       "      <td>1578</td>\n",
       "    </tr>\n",
       "    <tr>\n",
       "      <th>mean</th>\n",
       "      <td>12.200253</td>\n",
       "      <td>52.259189</td>\n",
       "      <td>4.591255</td>\n",
       "      <td>15.729404</td>\n",
       "      <td>0.398606</td>\n",
       "      <td>3.901141</td>\n",
       "      <td>-0.153992</td>\n",
       "      <td>3.134347</td>\n",
       "      <td>2.538023</td>\n",
       "      <td>32.472750</td>\n",
       "      <td>2.233840</td>\n",
       "      <td>104.361850</td>\n",
       "      <td>47.996831</td>\n",
       "      <td>5.005703</td>\n",
       "      <td>2024-06-14 08:00:00</td>\n",
       "      <td>2019-01-13 15:10:43.346007552</td>\n",
       "      <td>2024-05-21 12:25:33.079847936</td>\n",
       "    </tr>\n",
       "    <tr>\n",
       "      <th>min</th>\n",
       "      <td>0.000000</td>\n",
       "      <td>3.000000</td>\n",
       "      <td>2.000000</td>\n",
       "      <td>-1.000000</td>\n",
       "      <td>-1.000000</td>\n",
       "      <td>-1.000000</td>\n",
       "      <td>-1.000000</td>\n",
       "      <td>-1.000000</td>\n",
       "      <td>-1.000000</td>\n",
       "      <td>1.000000</td>\n",
       "      <td>0.000000</td>\n",
       "      <td>0.000000</td>\n",
       "      <td>0.000000</td>\n",
       "      <td>0.000000</td>\n",
       "      <td>2023-10-09 00:00:00</td>\n",
       "      <td>2008-08-20 00:00:00</td>\n",
       "      <td>2015-04-18 00:00:00</td>\n",
       "    </tr>\n",
       "    <tr>\n",
       "      <th>25%</th>\n",
       "      <td>0.000000</td>\n",
       "      <td>4.000000</td>\n",
       "      <td>2.000000</td>\n",
       "      <td>-1.000000</td>\n",
       "      <td>-1.000000</td>\n",
       "      <td>-1.000000</td>\n",
       "      <td>-1.000000</td>\n",
       "      <td>-1.000000</td>\n",
       "      <td>-1.000000</td>\n",
       "      <td>15.000000</td>\n",
       "      <td>0.000000</td>\n",
       "      <td>12.000000</td>\n",
       "      <td>3.000000</td>\n",
       "      <td>4.000000</td>\n",
       "      <td>2024-04-02 00:00:00</td>\n",
       "      <td>2016-10-29 18:00:00</td>\n",
       "      <td>2024-08-06 00:00:00</td>\n",
       "    </tr>\n",
       "    <tr>\n",
       "      <th>50%</th>\n",
       "      <td>2.000000</td>\n",
       "      <td>7.000000</td>\n",
       "      <td>3.000000</td>\n",
       "      <td>20.000000</td>\n",
       "      <td>-1.000000</td>\n",
       "      <td>-1.000000</td>\n",
       "      <td>-1.000000</td>\n",
       "      <td>-1.000000</td>\n",
       "      <td>-1.000000</td>\n",
       "      <td>26.000000</td>\n",
       "      <td>0.000000</td>\n",
       "      <td>33.000000</td>\n",
       "      <td>17.000000</td>\n",
       "      <td>5.000000</td>\n",
       "      <td>2024-07-13 00:00:00</td>\n",
       "      <td>2019-07-26 00:00:00</td>\n",
       "      <td>2024-09-20 00:00:00</td>\n",
       "    </tr>\n",
       "    <tr>\n",
       "      <th>75%</th>\n",
       "      <td>6.000000</td>\n",
       "      <td>19.000000</td>\n",
       "      <td>4.000000</td>\n",
       "      <td>30.000000</td>\n",
       "      <td>0.000000</td>\n",
       "      <td>4.750000</td>\n",
       "      <td>0.000000</td>\n",
       "      <td>3.000000</td>\n",
       "      <td>2.000000</td>\n",
       "      <td>39.000000</td>\n",
       "      <td>1.000000</td>\n",
       "      <td>89.000000</td>\n",
       "      <td>57.000000</td>\n",
       "      <td>6.000000</td>\n",
       "      <td>2024-09-13 00:00:00</td>\n",
       "      <td>2021-04-13 00:00:00</td>\n",
       "      <td>2024-10-03 00:00:00</td>\n",
       "    </tr>\n",
       "    <tr>\n",
       "      <th>max</th>\n",
       "      <td>2444.000000</td>\n",
       "      <td>9734.000000</td>\n",
       "      <td>30.000000</td>\n",
       "      <td>30.000000</td>\n",
       "      <td>26.000000</td>\n",
       "      <td>30.000000</td>\n",
       "      <td>23.000000</td>\n",
       "      <td>30.000000</td>\n",
       "      <td>30.000000</td>\n",
       "      <td>788.000000</td>\n",
       "      <td>287.000000</td>\n",
       "      <td>3198.000000</td>\n",
       "      <td>994.000000</td>\n",
       "      <td>8.000000</td>\n",
       "      <td>2024-10-07 00:00:00</td>\n",
       "      <td>2024-08-16 00:00:00</td>\n",
       "      <td>2024-10-11 00:00:00</td>\n",
       "    </tr>\n",
       "    <tr>\n",
       "      <th>std</th>\n",
       "      <td>86.393184</td>\n",
       "      <td>333.819138</td>\n",
       "      <td>5.675619</td>\n",
       "      <td>14.303341</td>\n",
       "      <td>3.037107</td>\n",
       "      <td>8.367077</td>\n",
       "      <td>2.053745</td>\n",
       "      <td>7.774384</td>\n",
       "      <td>6.864492</td>\n",
       "      <td>33.028027</td>\n",
       "      <td>11.587683</td>\n",
       "      <td>271.698748</td>\n",
       "      <td>91.983150</td>\n",
       "      <td>1.436226</td>\n",
       "      <td>NaN</td>\n",
       "      <td>NaN</td>\n",
       "      <td>NaN</td>\n",
       "    </tr>\n",
       "  </tbody>\n",
       "</table>\n",
       "</div>"
      ],
      "text/plain": [
       "       forks_count  stargazers_count  contribs_count  commits_count  \\\n",
       "count  1578.000000       1578.000000     1578.000000    1578.000000   \n",
       "mean     12.200253         52.259189        4.591255      15.729404   \n",
       "min       0.000000          3.000000        2.000000      -1.000000   \n",
       "25%       0.000000          4.000000        2.000000      -1.000000   \n",
       "50%       2.000000          7.000000        3.000000      20.000000   \n",
       "75%       6.000000         19.000000        4.000000      30.000000   \n",
       "max    2444.000000       9734.000000       30.000000      30.000000   \n",
       "std      86.393184        333.819138        5.675619      14.303341   \n",
       "\n",
       "       open_issues  closed_issues  open_pull_requests  closed_pull_requests  \\\n",
       "count  1578.000000    1578.000000         1578.000000           1578.000000   \n",
       "mean      0.398606       3.901141           -0.153992              3.134347   \n",
       "min      -1.000000      -1.000000           -1.000000             -1.000000   \n",
       "25%      -1.000000      -1.000000           -1.000000             -1.000000   \n",
       "50%      -1.000000      -1.000000           -1.000000             -1.000000   \n",
       "75%       0.000000       4.750000            0.000000              3.000000   \n",
       "max      26.000000      30.000000           23.000000             30.000000   \n",
       "std       3.037107       8.367077            2.053745              7.774384   \n",
       "\n",
       "       merged_pull_requests  public_repos  public_gists    followers  \\\n",
       "count           1578.000000   1578.000000   1578.000000  1578.000000   \n",
       "mean               2.538023     32.472750      2.233840   104.361850   \n",
       "min               -1.000000      1.000000      0.000000     0.000000   \n",
       "25%               -1.000000     15.000000      0.000000    12.000000   \n",
       "50%               -1.000000     26.000000      0.000000    33.000000   \n",
       "75%                2.000000     39.000000      1.000000    89.000000   \n",
       "max               30.000000    788.000000    287.000000  3198.000000   \n",
       "std                6.864492     33.028027     11.587683   271.698748   \n",
       "\n",
       "         following  documentation_score new_last_repo_commit_date  \\\n",
       "count  1578.000000          1578.000000                      1578   \n",
       "mean     47.996831             5.005703       2024-06-14 08:00:00   \n",
       "min       0.000000             0.000000       2023-10-09 00:00:00   \n",
       "25%       3.000000             4.000000       2024-04-02 00:00:00   \n",
       "50%      17.000000             5.000000       2024-07-13 00:00:00   \n",
       "75%      57.000000             6.000000       2024-09-13 00:00:00   \n",
       "max     994.000000             8.000000       2024-10-07 00:00:00   \n",
       "std      91.983150             1.436226                       NaN   \n",
       "\n",
       "              new_profile_created_at         new_profile_updated_at  \n",
       "count                           1578                           1578  \n",
       "mean   2019-01-13 15:10:43.346007552  2024-05-21 12:25:33.079847936  \n",
       "min              2008-08-20 00:00:00            2015-04-18 00:00:00  \n",
       "25%              2016-10-29 18:00:00            2024-08-06 00:00:00  \n",
       "50%              2019-07-26 00:00:00            2024-09-20 00:00:00  \n",
       "75%              2021-04-13 00:00:00            2024-10-03 00:00:00  \n",
       "max              2024-08-16 00:00:00            2024-10-11 00:00:00  \n",
       "std                              NaN                            NaN  "
      ]
     },
     "execution_count": 110,
     "metadata": {},
     "output_type": "execute_result"
    }
   ],
   "source": [
    "df.describe()"
   ]
  },
  {
   "cell_type": "code",
   "execution_count": 111,
   "metadata": {},
   "outputs": [],
   "source": [
    "df['ci_cd_tool'] = df['ci_cd_tool'].apply(lambda x: ''.join(x).replace(\"'\", \"\").replace('[', '').replace(']', ''))"
   ]
  },
  {
   "cell_type": "code",
   "execution_count": 112,
   "metadata": {},
   "outputs": [],
   "source": [
    "df['ci_cd_tool'] = df['ci_cd_tool'].replace(\"\",\"Unknown\")"
   ]
  },
  {
   "cell_type": "code",
   "execution_count": 113,
   "metadata": {},
   "outputs": [
    {
     "data": {
      "text/plain": [
       "ci_cd_tool\n",
       "Docker, Travis CI                                  410\n",
       "Unknown                                            173\n",
       "Docker, Codemagic, Travis CI                       159\n",
       "Docker, Azure, AWS                                 150\n",
       "Docker, Travis CI, Apache ANT                      114\n",
       "Docker, DVC, CodeClimate, Travis CI, Argo CD        96\n",
       "Docker                                              91\n",
       "Docker, Apache ANT                                  78\n",
       "Docker, DVC, Travis CI, Argo CD                     63\n",
       "Docker, CircleCI, Travis CI                         61\n",
       "Apache ANT                                          27\n",
       "Docker, Argo CD                                     26\n",
       "Azure                                               26\n",
       "Docker, Apache ANT, Travis CI, Codemagic, Azure     21\n",
       "Codemagic, Travis CI                                20\n",
       "Travis CI                                           20\n",
       "Docker, CircleCI, Travis CI, Azure                  15\n",
       "AWS                                                 11\n",
       "Docker, Azure                                        8\n",
       "Docker, Travis CI, Argo CD                           5\n",
       "Docker, Codemagic, Travis CI, Apache ANT             2\n",
       "Argo CD                                              1\n",
       "Docker, AWS                                          1\n",
       "Name: count, dtype: int64"
      ]
     },
     "execution_count": 113,
     "metadata": {},
     "output_type": "execute_result"
    }
   ],
   "source": [
    "df['ci_cd_tool'].value_counts()"
   ]
  },
  {
   "cell_type": "code",
   "execution_count": 114,
   "metadata": {},
   "outputs": [
    {
     "data": {
      "text/html": [
       "<div>\n",
       "<style scoped>\n",
       "    .dataframe tbody tr th:only-of-type {\n",
       "        vertical-align: middle;\n",
       "    }\n",
       "\n",
       "    .dataframe tbody tr th {\n",
       "        vertical-align: top;\n",
       "    }\n",
       "\n",
       "    .dataframe thead th {\n",
       "        text-align: right;\n",
       "    }\n",
       "</style>\n",
       "<table border=\"1\" class=\"dataframe\">\n",
       "  <thead>\n",
       "    <tr style=\"text-align: right;\">\n",
       "      <th></th>\n",
       "      <th>0</th>\n",
       "      <th>1</th>\n",
       "      <th>2</th>\n",
       "      <th>3</th>\n",
       "      <th>4</th>\n",
       "    </tr>\n",
       "  </thead>\n",
       "  <tbody>\n",
       "    <tr>\n",
       "      <th>0</th>\n",
       "      <td>Unknown</td>\n",
       "      <td>None</td>\n",
       "      <td>None</td>\n",
       "      <td>None</td>\n",
       "      <td>None</td>\n",
       "    </tr>\n",
       "    <tr>\n",
       "      <th>1</th>\n",
       "      <td>Unknown</td>\n",
       "      <td>None</td>\n",
       "      <td>None</td>\n",
       "      <td>None</td>\n",
       "      <td>None</td>\n",
       "    </tr>\n",
       "    <tr>\n",
       "      <th>2</th>\n",
       "      <td>Travis CI</td>\n",
       "      <td>None</td>\n",
       "      <td>None</td>\n",
       "      <td>None</td>\n",
       "      <td>None</td>\n",
       "    </tr>\n",
       "    <tr>\n",
       "      <th>3</th>\n",
       "      <td>Travis CI</td>\n",
       "      <td>None</td>\n",
       "      <td>None</td>\n",
       "      <td>None</td>\n",
       "      <td>None</td>\n",
       "    </tr>\n",
       "    <tr>\n",
       "      <th>4</th>\n",
       "      <td>Travis CI</td>\n",
       "      <td>None</td>\n",
       "      <td>None</td>\n",
       "      <td>None</td>\n",
       "      <td>None</td>\n",
       "    </tr>\n",
       "    <tr>\n",
       "      <th>...</th>\n",
       "      <td>...</td>\n",
       "      <td>...</td>\n",
       "      <td>...</td>\n",
       "      <td>...</td>\n",
       "      <td>...</td>\n",
       "    </tr>\n",
       "    <tr>\n",
       "      <th>1574</th>\n",
       "      <td>Docker</td>\n",
       "      <td>Codemagic</td>\n",
       "      <td>Travis CI</td>\n",
       "      <td>None</td>\n",
       "      <td>None</td>\n",
       "    </tr>\n",
       "    <tr>\n",
       "      <th>1575</th>\n",
       "      <td>Docker</td>\n",
       "      <td>Codemagic</td>\n",
       "      <td>Travis CI</td>\n",
       "      <td>None</td>\n",
       "      <td>None</td>\n",
       "    </tr>\n",
       "    <tr>\n",
       "      <th>1576</th>\n",
       "      <td>Docker</td>\n",
       "      <td>Codemagic</td>\n",
       "      <td>Travis CI</td>\n",
       "      <td>None</td>\n",
       "      <td>None</td>\n",
       "    </tr>\n",
       "    <tr>\n",
       "      <th>1577</th>\n",
       "      <td>Docker</td>\n",
       "      <td>Codemagic</td>\n",
       "      <td>Travis CI</td>\n",
       "      <td>None</td>\n",
       "      <td>None</td>\n",
       "    </tr>\n",
       "    <tr>\n",
       "      <th>1578</th>\n",
       "      <td>Docker</td>\n",
       "      <td>Codemagic</td>\n",
       "      <td>Travis CI</td>\n",
       "      <td>None</td>\n",
       "      <td>None</td>\n",
       "    </tr>\n",
       "  </tbody>\n",
       "</table>\n",
       "<p>1578 rows × 5 columns</p>\n",
       "</div>"
      ],
      "text/plain": [
       "              0          1          2     3     4\n",
       "0       Unknown       None       None  None  None\n",
       "1       Unknown       None       None  None  None\n",
       "2     Travis CI       None       None  None  None\n",
       "3     Travis CI       None       None  None  None\n",
       "4     Travis CI       None       None  None  None\n",
       "...         ...        ...        ...   ...   ...\n",
       "1574     Docker  Codemagic  Travis CI  None  None\n",
       "1575     Docker  Codemagic  Travis CI  None  None\n",
       "1576     Docker  Codemagic  Travis CI  None  None\n",
       "1577     Docker  Codemagic  Travis CI  None  None\n",
       "1578     Docker  Codemagic  Travis CI  None  None\n",
       "\n",
       "[1578 rows x 5 columns]"
      ]
     },
     "execution_count": 114,
     "metadata": {},
     "output_type": "execute_result"
    }
   ],
   "source": [
    "all_tools = df['ci_cd_tool'].str.split(', ',expand=True)\n",
    "all_tools"
   ]
  },
  {
   "cell_type": "code",
   "execution_count": 115,
   "metadata": {},
   "outputs": [
    {
     "data": {
      "text/html": [
       "<div>\n",
       "<style scoped>\n",
       "    .dataframe tbody tr th:only-of-type {\n",
       "        vertical-align: middle;\n",
       "    }\n",
       "\n",
       "    .dataframe tbody tr th {\n",
       "        vertical-align: top;\n",
       "    }\n",
       "\n",
       "    .dataframe thead th {\n",
       "        text-align: right;\n",
       "    }\n",
       "</style>\n",
       "<table border=\"1\" class=\"dataframe\">\n",
       "  <thead>\n",
       "    <tr style=\"text-align: right;\">\n",
       "      <th></th>\n",
       "      <th>value</th>\n",
       "    </tr>\n",
       "  </thead>\n",
       "  <tbody>\n",
       "    <tr>\n",
       "      <th>0</th>\n",
       "      <td>Unknown</td>\n",
       "    </tr>\n",
       "    <tr>\n",
       "      <th>1</th>\n",
       "      <td>Unknown</td>\n",
       "    </tr>\n",
       "    <tr>\n",
       "      <th>2</th>\n",
       "      <td>Travis CI</td>\n",
       "    </tr>\n",
       "    <tr>\n",
       "      <th>3</th>\n",
       "      <td>Travis CI</td>\n",
       "    </tr>\n",
       "    <tr>\n",
       "      <th>4</th>\n",
       "      <td>Travis CI</td>\n",
       "    </tr>\n",
       "    <tr>\n",
       "      <th>...</th>\n",
       "      <td>...</td>\n",
       "    </tr>\n",
       "    <tr>\n",
       "      <th>7151</th>\n",
       "      <td>Azure</td>\n",
       "    </tr>\n",
       "    <tr>\n",
       "      <th>7152</th>\n",
       "      <td>Azure</td>\n",
       "    </tr>\n",
       "    <tr>\n",
       "      <th>7153</th>\n",
       "      <td>Azure</td>\n",
       "    </tr>\n",
       "    <tr>\n",
       "      <th>7154</th>\n",
       "      <td>Azure</td>\n",
       "    </tr>\n",
       "    <tr>\n",
       "      <th>7155</th>\n",
       "      <td>Azure</td>\n",
       "    </tr>\n",
       "  </tbody>\n",
       "</table>\n",
       "<p>3807 rows × 1 columns</p>\n",
       "</div>"
      ],
      "text/plain": [
       "          value\n",
       "0       Unknown\n",
       "1       Unknown\n",
       "2     Travis CI\n",
       "3     Travis CI\n",
       "4     Travis CI\n",
       "...         ...\n",
       "7151      Azure\n",
       "7152      Azure\n",
       "7153      Azure\n",
       "7154      Azure\n",
       "7155      Azure\n",
       "\n",
       "[3807 rows x 1 columns]"
      ]
     },
     "execution_count": 115,
     "metadata": {},
     "output_type": "execute_result"
    }
   ],
   "source": [
    "all_tools_melted = all_tools.melt().dropna().drop(columns=['variable'])\n",
    "all_tools_melted"
   ]
  },
  {
   "cell_type": "code",
   "execution_count": 116,
   "metadata": {},
   "outputs": [
    {
     "data": {
      "text/plain": [
       "value      \n",
       "Docker         1300\n",
       "Travis CI       986\n",
       "Apache ANT      242\n",
       "Azure           220\n",
       "Codemagic       202\n",
       "Argo CD         191\n",
       "Unknown         173\n",
       "AWS             162\n",
       "DVC             159\n",
       "CodeClimate      96\n",
       "CircleCI         76\n",
       "Name: count, dtype: int64"
      ]
     },
     "execution_count": 116,
     "metadata": {},
     "output_type": "execute_result"
    }
   ],
   "source": [
    "all_tools_melted.value_counts()"
   ]
  },
  {
   "cell_type": "code",
   "execution_count": 117,
   "metadata": {},
   "outputs": [],
   "source": [
    "df['database_types'] = df['database_types'].apply(lambda x: ''.join(x).replace(\"'\", \"\").replace('[', '').replace(']', ''))"
   ]
  },
  {
   "cell_type": "code",
   "execution_count": 118,
   "metadata": {},
   "outputs": [],
   "source": [
    "df['database_types'] = df['database_types'].str.lstrip(',')"
   ]
  },
  {
   "cell_type": "code",
   "execution_count": 119,
   "metadata": {},
   "outputs": [],
   "source": [
    "df['database_types'] = df['database_types'].replace(\"\",\"Unknown\")"
   ]
  },
  {
   "cell_type": "code",
   "execution_count": 120,
   "metadata": {},
   "outputs": [],
   "source": [
    "df['database_types'] = df['database_types'].str.strip()"
   ]
  },
  {
   "cell_type": "code",
   "execution_count": 121,
   "metadata": {},
   "outputs": [
    {
     "data": {
      "text/plain": [
       "database_types\n",
       "Unknown                         1531\n",
       "DynamoDB                          14\n",
       "Firebase                           8\n",
       "MongoDB                            7\n",
       "SQLite                             3\n",
       "Redis                              2\n",
       "Firebase, Firebase                 2\n",
       "PostgreSQL, Redis                  1\n",
       "Firebase, Firebase, Firebase       1\n",
       "PostgreSQL                         1\n",
       "Oracle                             1\n",
       "MySQL, Redis                       1\n",
       "Firebase, DynamoDB                 1\n",
       "DynamoDB, Oracle                   1\n",
       "MongoDB, DynamoDB, MongoDB         1\n",
       "TSQL                               1\n",
       "DB2, PostgreSQL                    1\n",
       "MySQL                              1\n",
       "Name: count, dtype: int64"
      ]
     },
     "execution_count": 121,
     "metadata": {},
     "output_type": "execute_result"
    }
   ],
   "source": [
    "df['database_types'].value_counts()"
   ]
  },
  {
   "cell_type": "code",
   "execution_count": 122,
   "metadata": {},
   "outputs": [
    {
     "name": "stdout",
     "output_type": "stream",
     "text": [
      "location\n",
      "egypt             750\n",
      "cairo             509\n",
      "alexandria        128\n",
      "giza               72\n",
      "dakahlia           25\n",
      "sharqia            14\n",
      "port said          11\n",
      "north sinai        11\n",
      "gharbia            10\n",
      "assiut              8\n",
      "ismailia            6\n",
      "qalyubia            6\n",
      "damietta            6\n",
      "luxor               6\n",
      "suez                3\n",
      "beni suef           3\n",
      "fayoum              2\n",
      "aswan               2\n",
      "menofia             2\n",
      "sohag               1\n",
      "kafr el sheikh      1\n",
      "beheira             1\n",
      "south sinai         1\n",
      "Name: count, dtype: int64\n"
     ]
    },
    {
     "name": "stderr",
     "output_type": "stream",
     "text": [
      "<>:12: SyntaxWarning: invalid escape sequence '\\ '\n",
      "<>:12: SyntaxWarning: invalid escape sequence '\\ '\n",
      "C:\\Users\\TPC-Store\\AppData\\Local\\Temp\\ipykernel_11804\\2050985845.py:12: SyntaxWarning: invalid escape sequence '\\ '\n",
      "  'cairo': ['cairo', 'cairo, egypt', 'cairo , egypt','cairo,egypt','cario,egypt','egypt, cairo', 'cairo egypt', 'cairo-egypt', 'cairo/egypt','cairo ,egypt', 'cairo - egypt', 'egypt cairo', 'egypt - cairo', 'cairo  - egypt', 'cairo, cairo, egypt', 'cairo ,', 'cairo.', 'new cairo, egypt', 'new cairo', 'egypt , cairo', 'egypt - cairo - badr city', 'egypt,cairo', 'cairo egypt, riyadh ksa', 'gaza, palestine - cairo, egypt', 'egypt, cairo!', 'cario, egypt', 'egypt-cairo', 'egypt \\ cairo', 'egypt -cairo', 'maadi, cairo , egypt', 'shoubra, cairo - egypt', 'cario, egypt', 'cairo , egypt', 'cairo, egypt'],\n"
     ]
    }
   ],
   "source": [
    "def standardize_location(loc):\n",
    "\n",
    "    loc = loc.lower().strip()\n",
    "\n",
    "    if loc.endswith('.'):\n",
    "        loc = loc[:-1]\n",
    "\n",
    "    if loc.endswith('!'):\n",
    "        loc = loc[:-1]\n",
    "    \n",
    "    replacements = {\n",
    "        'cairo': ['cairo', 'cairo, egypt', 'cairo , egypt','cairo,egypt','cario,egypt','egypt, cairo', 'cairo egypt', 'cairo-egypt', 'cairo/egypt','cairo ,egypt', 'cairo - egypt', 'egypt cairo', 'egypt - cairo', 'cairo  - egypt', 'cairo, cairo, egypt', 'cairo ,', 'cairo.', 'new cairo, egypt', 'new cairo', 'egypt , cairo', 'egypt - cairo - badr city', 'egypt,cairo', 'cairo egypt, riyadh ksa', 'gaza, palestine - cairo, egypt', 'egypt, cairo!', 'cario, egypt', 'egypt-cairo', 'egypt \\ cairo', 'egypt -cairo', 'maadi, cairo , egypt', 'shoubra, cairo - egypt', 'cario, egypt', 'cairo , egypt', 'cairo, egypt'],\n",
    "        'alexandria': ['alexandria', 'alexandria, egypt', 'alexandria , egypt', 'egypt, alexandria', 'alexandria-egypt', 'alexandria ,egypt', 'alexandria,egypt', 'alexandria,egypt.', 'alexandria - egypt', 'alexandria - egypt (eg)', 'alexanderia,egypt', 'alexandria egypt', 'egypt - alexandria', 'egypt,alexandria', 'alexandria, egypt!', 'egypt, alex'],\n",
    "        'giza': ['giza', 'giza, egypt', 'egypt, giza', 'giza - egypt', 'giza-egypt', 'giza , egypt', 'giza,egypt', 'giza egypt', 'haram, giza, egypt', 'pyarmids gardens - jizah, egypt', 'egypt - giza', '6th of october, egypt', '6th of october city, egypt', '6th of october city, giza, egypt', '6th of october - egypt', '6-october city, giza governate - egypt', '6-october city, giza governorate, egypt', 'october - giza - egypt', 'helwan, cairo, egypt', 'helwan, cairo', 'egypt / giza', 'helwan, cairo,  egypt', 'egypt, october', 'b2111 smart village, giza, egypt', '6th of october, giza, egypt', 'egypt,giza governorate'],\n",
    "        'dakahlia': ['mansoura', 'mansoura, egypt','dikirnis, egypt','mit-ghamr , ad daqahliyah, egypt','dk, egypt','dakahlia, egypt','egypt - dakahlia - mansoura', 'mansoura - egypt', 'mansoura , egypt', 'mansoura ,egypt', 'mansourah , egypt', 'el mansoura, ad daqahliyah, egypt', 'mansoura, dakahlia, egypt', 'mansoura, dakahlia, egypt.', 'el mansoura, ad dakahliya, egypt', 'egypt, mansoura', 'new cairo, egypt', 'egypt,mansoura', 'egypt-elmansoura', 'egypt , mansoura', 'al mansurah, dakahlia, egypt', 'egypt ,mansoura', 'mansoura, dakahlia, egypt', 'mansoura - egypt', 'egypt , mansoura', 'mansoura , egypt'],\n",
    "        'port said': ['port said', 'port said, egypt', 'portsaid, egypt', 'port-said _ egypt', 'egypt, port said', 'dikhilnis, egypt'],\n",
    "        'assiut': ['assiut', 'assiut, egypt', 'egypt, assiut', 'asyut, egypt', 'egypt, asyut', 'assiut , egypt','assiut,  egypt'],\n",
    "        'damietta': ['damietta', 'damietta, egypt', 'dumyat, egypt', 'egypt, damietta', 'egypt - damietta'],\n",
    "        'suez': ['suez', 'suez, egypt', 'egypt, suez', 'suez,egypt'],\n",
    "        'gharbia': ['tanta', 'tanta, egypt', 'tanta - el gharbeya - egypt', 'egypt, tanta', 'tanta , egypt', 'gharbia, egypt','egypt , cairo , elmahalla elkobra', 'tanta - el gharbeya - egypt','elmahalla elkubra,gharbia, egypt'],\n",
    "        'aswan': ['aswan', 'aswan, egypt', 'egypt, aswan'],\n",
    "        'sharqia': ['zagazig', 'zagazig, egypt', 'zagazig , egypt', 'egypt, elsharqia', 'ash sharqiyah, egypt', 'zagazig university, zagazig, egypt', 'egypt, al-sharqia', 'manzil maymun, al haswah, markaz abu kabir, ash sharqia governorate, egypt', '10th of ramadan city , egypt', '10th of ramadan city, egypt', 'cairo , egypt', 'egypt, elsharqia, zagazig'],\n",
    "        'fayoum': ['egypt - el fayoum', 'fayoum , egypt', 'fayoum, egypt'],\n",
    "        'north sinai': ['north sinai', 'sinai, egypt', 'egypt-alexandria', 'al arish, north sinai, egypt', 'arish, egypt', 'el arish, egypt'],\n",
    "        'south sinai': ['south sinai', 'sharm el sheikh - egypt', 'sharm el-sheikh, egypt', 'sharm el sheikh, egypt'],\n",
    "        'qalyubia': ['madinaty', 'madinaty, egypt', 'egypt, qalyub', 'egypt, qalyubia', 'qalyubia'],\n",
    "        'kafr el sheikh': ['kafr el sheikh egypt', 'kafr el-sheikh, egypt', 'alexandria, kafr el sheikh, egypt!', 'kafr el sheikh , zagazig'],\n",
    "        'sohag': ['egypt . sohag', 'sohag, egypt'],\n",
    "        'beni suef': ['egypt, beni suef', 'beni suef, egypt'],\n",
    "        'menofia': ['menofia egypt', 'mostay/quesna/menofya/egypt', 'menofia, egypt'],\n",
    "        'ismailia': ['ismailia', 'ismailia, egypt', 'egypt, ismailia governorate', 'ismailia, egypt'],\n",
    "        'luxor': ['luxor', 'luxor, egypt', 'egypt - luxor'],\n",
    "        'beheira': ['damanhour-egypt', 'damanhour, egypt'],\n",
    "        'egypt': ['egypt', 'مِڝْڔُ - egypt', 'turkey, uae, egypt, russia, georgia', 'rosetta, albuhera, egypt', 'somewhere in egypt', 'egypt | orlando, florida', 'egypt / italy', 'konya, turkey / cairo, egypt', 'egypt - uae', 'egypt / uae', 'ca, usa | jordan | egypt', 'egypt - مصر', 'egypt :egypt:', 'dahab , egypt']\n",
    "    }\n",
    "    \n",
    "    for standard, variants in replacements.items():\n",
    "        if loc in [v.lower() for v in variants]:\n",
    "            return standard\n",
    "    \n",
    "    return loc\n",
    "\n",
    "df['location'] = df['location'].apply(standardize_location)\n",
    "\n",
    "print(df['location'].value_counts())"
   ]
  },
  {
   "cell_type": "markdown",
   "metadata": {},
   "source": [
    "### Data Visualization"
   ]
  },
  {
   "cell_type": "code",
   "execution_count": 123,
   "metadata": {},
   "outputs": [
    {
     "data": {
      "text/html": [
       "<div>\n",
       "<style scoped>\n",
       "    .dataframe tbody tr th:only-of-type {\n",
       "        vertical-align: middle;\n",
       "    }\n",
       "\n",
       "    .dataframe tbody tr th {\n",
       "        vertical-align: top;\n",
       "    }\n",
       "\n",
       "    .dataframe thead th {\n",
       "        text-align: right;\n",
       "    }\n",
       "</style>\n",
       "<table border=\"1\" class=\"dataframe\">\n",
       "  <thead>\n",
       "    <tr style=\"text-align: right;\">\n",
       "      <th></th>\n",
       "      <th>repo_name</th>\n",
       "      <th>repo_html_url</th>\n",
       "      <th>forks_count</th>\n",
       "      <th>repo_description</th>\n",
       "      <th>stargazers_count</th>\n",
       "      <th>license</th>\n",
       "      <th>contribs_count</th>\n",
       "      <th>language</th>\n",
       "      <th>commits_count</th>\n",
       "      <th>open_issues</th>\n",
       "      <th>closed_issues</th>\n",
       "      <th>open_pull_requests</th>\n",
       "      <th>closed_pull_requests</th>\n",
       "      <th>merged_pull_requests</th>\n",
       "      <th>ci_cd_tool</th>\n",
       "      <th>database_types</th>\n",
       "      <th>name</th>\n",
       "      <th>location</th>\n",
       "      <th>bio</th>\n",
       "      <th>public_repos</th>\n",
       "      <th>public_gists</th>\n",
       "      <th>followers</th>\n",
       "      <th>following</th>\n",
       "      <th>documentation_score</th>\n",
       "      <th>new_last_repo_commit_date</th>\n",
       "      <th>new_profile_created_at</th>\n",
       "      <th>new_profile_updated_at</th>\n",
       "    </tr>\n",
       "  </thead>\n",
       "  <tbody>\n",
       "    <tr>\n",
       "      <th>0</th>\n",
       "      <td>nti_project</td>\n",
       "      <td>https://github.com/mohamedmagdy/NTI_project</td>\n",
       "      <td>1</td>\n",
       "      <td>a repository for code that has been written du...</td>\n",
       "      <td>3</td>\n",
       "      <td>Unknown</td>\n",
       "      <td>4</td>\n",
       "      <td>Python</td>\n",
       "      <td>-1</td>\n",
       "      <td>0</td>\n",
       "      <td>1</td>\n",
       "      <td>0</td>\n",
       "      <td>1</td>\n",
       "      <td>1</td>\n",
       "      <td>Unknown</td>\n",
       "      <td>Unknown</td>\n",
       "      <td>Mohamed Magdy</td>\n",
       "      <td>egypt</td>\n",
       "      <td>@ProjoMania Founder\\nYouTube: https://bit.ly/3...</td>\n",
       "      <td>17</td>\n",
       "      <td>0</td>\n",
       "      <td>179</td>\n",
       "      <td>4</td>\n",
       "      <td>1</td>\n",
       "      <td>2023-10-25</td>\n",
       "      <td>2013-07-11</td>\n",
       "      <td>2024-10-09</td>\n",
       "    </tr>\n",
       "    <tr>\n",
       "      <th>1</th>\n",
       "      <td>harvard-computer-architecture-java-simulator</td>\n",
       "      <td>https://github.com/mathewhany/harvard-computer...</td>\n",
       "      <td>2</td>\n",
       "      <td>a simulator of the harvard microarchitecture u...</td>\n",
       "      <td>3</td>\n",
       "      <td>Unknown</td>\n",
       "      <td>5</td>\n",
       "      <td>Java</td>\n",
       "      <td>24</td>\n",
       "      <td>-1</td>\n",
       "      <td>-1</td>\n",
       "      <td>-1</td>\n",
       "      <td>-1</td>\n",
       "      <td>-1</td>\n",
       "      <td>Unknown</td>\n",
       "      <td>Unknown</td>\n",
       "      <td>Mathew Hany</td>\n",
       "      <td>cairo</td>\n",
       "      <td>Backend Intern @Instabug | 7th semester CSE St...</td>\n",
       "      <td>39</td>\n",
       "      <td>2</td>\n",
       "      <td>121</td>\n",
       "      <td>87</td>\n",
       "      <td>1</td>\n",
       "      <td>2024-04-26</td>\n",
       "      <td>2013-04-30</td>\n",
       "      <td>2024-09-21</td>\n",
       "    </tr>\n",
       "    <tr>\n",
       "      <th>2</th>\n",
       "      <td>awesome-datascience</td>\n",
       "      <td>https://github.com/mustafaelnahas/awesome-data...</td>\n",
       "      <td>6</td>\n",
       "      <td>:memo: an awesome data science repository to l...</td>\n",
       "      <td>3</td>\n",
       "      <td>MIT License</td>\n",
       "      <td>30</td>\n",
       "      <td>Unknown</td>\n",
       "      <td>30</td>\n",
       "      <td>-1</td>\n",
       "      <td>-1</td>\n",
       "      <td>-1</td>\n",
       "      <td>-1</td>\n",
       "      <td>-1</td>\n",
       "      <td>Travis CI</td>\n",
       "      <td>Unknown</td>\n",
       "      <td>Mustafa Othman</td>\n",
       "      <td>egypt</td>\n",
       "      <td>Unknown</td>\n",
       "      <td>16</td>\n",
       "      <td>0</td>\n",
       "      <td>97</td>\n",
       "      <td>40</td>\n",
       "      <td>1</td>\n",
       "      <td>2024-09-01</td>\n",
       "      <td>2013-03-01</td>\n",
       "      <td>2023-10-28</td>\n",
       "    </tr>\n",
       "    <tr>\n",
       "      <th>3</th>\n",
       "      <td>free-data-science-books</td>\n",
       "      <td>https://github.com/mustafaelnahas/free-data-sc...</td>\n",
       "      <td>5</td>\n",
       "      <td>free resources for learning data science</td>\n",
       "      <td>3</td>\n",
       "      <td>The Unlicense</td>\n",
       "      <td>14</td>\n",
       "      <td>Unknown</td>\n",
       "      <td>30</td>\n",
       "      <td>-1</td>\n",
       "      <td>-1</td>\n",
       "      <td>-1</td>\n",
       "      <td>-1</td>\n",
       "      <td>-1</td>\n",
       "      <td>Travis CI</td>\n",
       "      <td>Unknown</td>\n",
       "      <td>Mustafa Othman</td>\n",
       "      <td>egypt</td>\n",
       "      <td>Unknown</td>\n",
       "      <td>16</td>\n",
       "      <td>0</td>\n",
       "      <td>97</td>\n",
       "      <td>40</td>\n",
       "      <td>1</td>\n",
       "      <td>2024-09-01</td>\n",
       "      <td>2013-03-01</td>\n",
       "      <td>2023-10-28</td>\n",
       "    </tr>\n",
       "    <tr>\n",
       "      <th>4</th>\n",
       "      <td>alps_rfid_n6737</td>\n",
       "      <td>https://github.com/amorenew/alps_rfid_n6737</td>\n",
       "      <td>4</td>\n",
       "      <td>unknown</td>\n",
       "      <td>3</td>\n",
       "      <td>Other</td>\n",
       "      <td>3</td>\n",
       "      <td>Kotlin</td>\n",
       "      <td>24</td>\n",
       "      <td>3</td>\n",
       "      <td>11</td>\n",
       "      <td>0</td>\n",
       "      <td>6</td>\n",
       "      <td>6</td>\n",
       "      <td>Travis CI</td>\n",
       "      <td>Unknown</td>\n",
       "      <td>Amr Abd El Wahab El Desouky</td>\n",
       "      <td>egypt</td>\n",
       "      <td>Mobile Developer\\nAndroid, iOS, React Native, ...</td>\n",
       "      <td>135</td>\n",
       "      <td>5</td>\n",
       "      <td>52</td>\n",
       "      <td>3</td>\n",
       "      <td>0</td>\n",
       "      <td>2024-04-17</td>\n",
       "      <td>2012-11-20</td>\n",
       "      <td>2024-10-01</td>\n",
       "    </tr>\n",
       "  </tbody>\n",
       "</table>\n",
       "</div>"
      ],
      "text/plain": [
       "                                      repo_name  \\\n",
       "0                                   nti_project   \n",
       "1  harvard-computer-architecture-java-simulator   \n",
       "2                           awesome-datascience   \n",
       "3                       free-data-science-books   \n",
       "4                               alps_rfid_n6737   \n",
       "\n",
       "                                       repo_html_url  forks_count  \\\n",
       "0        https://github.com/mohamedmagdy/NTI_project            1   \n",
       "1  https://github.com/mathewhany/harvard-computer...            2   \n",
       "2  https://github.com/mustafaelnahas/awesome-data...            6   \n",
       "3  https://github.com/mustafaelnahas/free-data-sc...            5   \n",
       "4        https://github.com/amorenew/alps_rfid_n6737            4   \n",
       "\n",
       "                                    repo_description  stargazers_count  \\\n",
       "0  a repository for code that has been written du...                 3   \n",
       "1  a simulator of the harvard microarchitecture u...                 3   \n",
       "2  :memo: an awesome data science repository to l...                 3   \n",
       "3           free resources for learning data science                 3   \n",
       "4                                            unknown                 3   \n",
       "\n",
       "         license  contribs_count language  commits_count  open_issues  \\\n",
       "0        Unknown               4   Python             -1            0   \n",
       "1        Unknown               5     Java             24           -1   \n",
       "2    MIT License              30  Unknown             30           -1   \n",
       "3  The Unlicense              14  Unknown             30           -1   \n",
       "4          Other               3   Kotlin             24            3   \n",
       "\n",
       "   closed_issues  open_pull_requests  closed_pull_requests  \\\n",
       "0              1                   0                     1   \n",
       "1             -1                  -1                    -1   \n",
       "2             -1                  -1                    -1   \n",
       "3             -1                  -1                    -1   \n",
       "4             11                   0                     6   \n",
       "\n",
       "   merged_pull_requests ci_cd_tool database_types  \\\n",
       "0                     1    Unknown        Unknown   \n",
       "1                    -1    Unknown        Unknown   \n",
       "2                    -1  Travis CI        Unknown   \n",
       "3                    -1  Travis CI        Unknown   \n",
       "4                     6  Travis CI        Unknown   \n",
       "\n",
       "                          name location  \\\n",
       "0                Mohamed Magdy    egypt   \n",
       "1                  Mathew Hany    cairo   \n",
       "2               Mustafa Othman    egypt   \n",
       "3               Mustafa Othman    egypt   \n",
       "4  Amr Abd El Wahab El Desouky    egypt   \n",
       "\n",
       "                                                 bio  public_repos  \\\n",
       "0  @ProjoMania Founder\\nYouTube: https://bit.ly/3...            17   \n",
       "1  Backend Intern @Instabug | 7th semester CSE St...            39   \n",
       "2                                            Unknown            16   \n",
       "3                                            Unknown            16   \n",
       "4  Mobile Developer\\nAndroid, iOS, React Native, ...           135   \n",
       "\n",
       "   public_gists  followers  following  documentation_score  \\\n",
       "0             0        179          4                    1   \n",
       "1             2        121         87                    1   \n",
       "2             0         97         40                    1   \n",
       "3             0         97         40                    1   \n",
       "4             5         52          3                    0   \n",
       "\n",
       "  new_last_repo_commit_date new_profile_created_at new_profile_updated_at  \n",
       "0                2023-10-25             2013-07-11             2024-10-09  \n",
       "1                2024-04-26             2013-04-30             2024-09-21  \n",
       "2                2024-09-01             2013-03-01             2023-10-28  \n",
       "3                2024-09-01             2013-03-01             2023-10-28  \n",
       "4                2024-04-17             2012-11-20             2024-10-01  "
      ]
     },
     "execution_count": 123,
     "metadata": {},
     "output_type": "execute_result"
    }
   ],
   "source": [
    "df.head()"
   ]
  },
  {
   "cell_type": "markdown",
   "metadata": {},
   "source": [
    "### What are the most used programming languages? "
   ]
  },
  {
   "cell_type": "code",
   "execution_count": 124,
   "metadata": {},
   "outputs": [
    {
     "data": {
      "text/plain": [
       "language\n",
       "Python        281\n",
       "JavaScript    189\n",
       "Unknown       145\n",
       "Dart          126\n",
       "C++           118\n",
       "Java          114\n",
       "TypeScript    100\n",
       "PHP            91\n",
       "C#             71\n",
       "HTML           60\n",
       "Name: count, dtype: int64"
      ]
     },
     "execution_count": 124,
     "metadata": {},
     "output_type": "execute_result"
    }
   ],
   "source": [
    "Lang = df['language'].value_counts().head(10)\n",
    "Lang"
   ]
  },
  {
   "cell_type": "code",
   "execution_count": 125,
   "metadata": {},
   "outputs": [],
   "source": [
    "colors = sns.cubehelix_palette(20,reverse = True, light= 0.01,dark = 0.5, gamma= 0.7)\n",
    "palette_color  = sns.color_palette(\"RdBu\",10)\n",
    "sns.set_theme(style=\"whitegrid\", palette=palette_color)"
   ]
  },
  {
   "cell_type": "code",
   "execution_count": 126,
   "metadata": {},
   "outputs": [
    {
     "data": {
      "image/png": "[encoded data removed]",
      "text/plain": [
       "<Figure size 800x600 with 1 Axes>"
      ]
     },
     "metadata": {},
     "output_type": "display_data"
    }
   ],
   "source": [
    "plt.figure(figsize=(8,6))\n",
    "plt.barh(Lang.index,Lang.values)\n",
    "plt.title('Top 10 Languages Used')\n",
    "plt.xlabel('Count')\n",
    "plt.ylabel('Language')\n",
    "plt.show()"
   ]
  },
  {
   "cell_type": "markdown",
   "metadata": {},
   "source": [
    "### Observation\n",
    "\n",
    "### Python is the most popular programming language among Egyptian GitHub developers, followed by JavaScript, while HTML, C#, PHP, TypeScript, Java, C++, and Dart are less commonly used."
   ]
  },
  {
   "cell_type": "markdown",
   "metadata": {},
   "source": [
    "### What are the most CI/CD Tools Used?"
   ]
  },
  {
   "cell_type": "code",
   "execution_count": 127,
   "metadata": {},
   "outputs": [
    {
     "data": {
      "text/plain": [
       "value      \n",
       "Docker         1300\n",
       "Travis CI       986\n",
       "Apache ANT      242\n",
       "Azure           220\n",
       "Codemagic       202\n",
       "Argo CD         191\n",
       "Unknown         173\n",
       "AWS             162\n",
       "DVC             159\n",
       "CodeClimate      96\n",
       "CircleCI         76\n",
       "Name: count, dtype: int64"
      ]
     },
     "execution_count": 127,
     "metadata": {},
     "output_type": "execute_result"
    }
   ],
   "source": [
    "ci__cd_tool = all_tools_melted.value_counts()\n",
    "ci__cd_tool"
   ]
  },
  {
   "cell_type": "code",
   "execution_count": 128,
   "metadata": {},
   "outputs": [
    {
     "data": {
      "text/html": [
       "<div>\n",
       "<style scoped>\n",
       "    .dataframe tbody tr th:only-of-type {\n",
       "        vertical-align: middle;\n",
       "    }\n",
       "\n",
       "    .dataframe tbody tr th {\n",
       "        vertical-align: top;\n",
       "    }\n",
       "\n",
       "    .dataframe thead th {\n",
       "        text-align: right;\n",
       "    }\n",
       "</style>\n",
       "<table border=\"1\" class=\"dataframe\">\n",
       "  <thead>\n",
       "    <tr style=\"text-align: right;\">\n",
       "      <th></th>\n",
       "      <th>value</th>\n",
       "      <th>count</th>\n",
       "    </tr>\n",
       "  </thead>\n",
       "  <tbody>\n",
       "    <tr>\n",
       "      <th>0</th>\n",
       "      <td>Docker</td>\n",
       "      <td>1300</td>\n",
       "    </tr>\n",
       "    <tr>\n",
       "      <th>1</th>\n",
       "      <td>Travis CI</td>\n",
       "      <td>986</td>\n",
       "    </tr>\n",
       "    <tr>\n",
       "      <th>2</th>\n",
       "      <td>Apache ANT</td>\n",
       "      <td>242</td>\n",
       "    </tr>\n",
       "    <tr>\n",
       "      <th>3</th>\n",
       "      <td>Azure</td>\n",
       "      <td>220</td>\n",
       "    </tr>\n",
       "    <tr>\n",
       "      <th>4</th>\n",
       "      <td>Codemagic</td>\n",
       "      <td>202</td>\n",
       "    </tr>\n",
       "    <tr>\n",
       "      <th>5</th>\n",
       "      <td>Argo CD</td>\n",
       "      <td>191</td>\n",
       "    </tr>\n",
       "    <tr>\n",
       "      <th>6</th>\n",
       "      <td>Unknown</td>\n",
       "      <td>173</td>\n",
       "    </tr>\n",
       "    <tr>\n",
       "      <th>7</th>\n",
       "      <td>AWS</td>\n",
       "      <td>162</td>\n",
       "    </tr>\n",
       "    <tr>\n",
       "      <th>8</th>\n",
       "      <td>DVC</td>\n",
       "      <td>159</td>\n",
       "    </tr>\n",
       "    <tr>\n",
       "      <th>9</th>\n",
       "      <td>CodeClimate</td>\n",
       "      <td>96</td>\n",
       "    </tr>\n",
       "    <tr>\n",
       "      <th>10</th>\n",
       "      <td>CircleCI</td>\n",
       "      <td>76</td>\n",
       "    </tr>\n",
       "  </tbody>\n",
       "</table>\n",
       "</div>"
      ],
      "text/plain": [
       "          value  count\n",
       "0        Docker   1300\n",
       "1     Travis CI    986\n",
       "2    Apache ANT    242\n",
       "3         Azure    220\n",
       "4     Codemagic    202\n",
       "5       Argo CD    191\n",
       "6       Unknown    173\n",
       "7           AWS    162\n",
       "8           DVC    159\n",
       "9   CodeClimate     96\n",
       "10     CircleCI     76"
      ]
     },
     "execution_count": 128,
     "metadata": {},
     "output_type": "execute_result"
    }
   ],
   "source": [
    "CICD__tool = pd.DataFrame(ci__cd_tool).reset_index()\n",
    "CICD__tool"
   ]
  },
  {
   "cell_type": "code",
   "execution_count": 129,
   "metadata": {},
   "outputs": [
    {
     "data": {
      "image/png": "[encoded data removed]",
      "text/plain": [
       "<Figure size 800x600 with 1 Axes>"
      ]
     },
     "metadata": {},
     "output_type": "display_data"
    }
   ],
   "source": [
    "plt.figure(figsize=(8,6))\n",
    "plt.barh(CICD__tool['value'],CICD__tool['count'])\n",
    "plt.title('Top CI/CD Tools Used')\n",
    "plt.xlabel('Counts')\n",
    "plt.ylabel('CI/CD Tool')\n",
    "plt.show()"
   ]
  },
  {
   "cell_type": "markdown",
   "metadata": {},
   "source": [
    "### Observation\n",
    "### Docker, Travis CI is the most frequently used CI/CD tool among the top 11 tools used by developers, indicating its strong prevalence and importance in their workflows. While other tools like CircleCI, DVC, and CodeClimate are utilized, they appear less frequently compared to Docker, Travis CI."
   ]
  },
  {
   "cell_type": "markdown",
   "metadata": {},
   "source": [
    "### Is there a relationship between Forks Count and Stargazers Count?"
   ]
  },
  {
   "cell_type": "code",
   "execution_count": 130,
   "metadata": {},
   "outputs": [
    {
     "data": {
      "image/png": "[encoded data removed]",
      "text/plain": [
       "<Figure size 640x480 with 1 Axes>"
      ]
     },
     "metadata": {},
     "output_type": "display_data"
    }
   ],
   "source": [
    "sns.regplot(data=df,x='forks_count',y='stargazers_count')\n",
    "plt.title('Relationship between Forks and Stars')\n",
    "plt.xlabel('Fork Count')\n",
    "plt.ylabel('Stars Count')\n",
    "plt.show()"
   ]
  },
  {
   "cell_type": "markdown",
   "metadata": {},
   "source": [
    "### Observation\n",
    "### There is a positive relationship between the number of forks and the number of stars. Repositories with more forks tend to have more stars. However, the relationship is not perfect, and there are likely other factors influencing the number of stars a repository receives."
   ]
  },
  {
   "cell_type": "markdown",
   "metadata": {},
   "source": [
    "### Who are the top 10 active users?"
   ]
  },
  {
   "cell_type": "code",
   "execution_count": 131,
   "metadata": {},
   "outputs": [
    {
     "data": {
      "text/html": [
       "<div>\n",
       "<style scoped>\n",
       "    .dataframe tbody tr th:only-of-type {\n",
       "        vertical-align: middle;\n",
       "    }\n",
       "\n",
       "    .dataframe tbody tr th {\n",
       "        vertical-align: top;\n",
       "    }\n",
       "\n",
       "    .dataframe thead th {\n",
       "        text-align: right;\n",
       "    }\n",
       "</style>\n",
       "<table border=\"1\" class=\"dataframe\">\n",
       "  <thead>\n",
       "    <tr style=\"text-align: right;\">\n",
       "      <th></th>\n",
       "      <th>name</th>\n",
       "      <th>public_repos</th>\n",
       "      <th>contribs_count</th>\n",
       "    </tr>\n",
       "  </thead>\n",
       "  <tbody>\n",
       "    <tr>\n",
       "      <th>1051</th>\n",
       "      <td>Abdelrazek</td>\n",
       "      <td>788</td>\n",
       "      <td>3</td>\n",
       "    </tr>\n",
       "    <tr>\n",
       "      <th>1052</th>\n",
       "      <td>Eslam Faisal</td>\n",
       "      <td>235</td>\n",
       "      <td>8</td>\n",
       "    </tr>\n",
       "    <tr>\n",
       "      <th>353</th>\n",
       "      <td>Amr Elsekilly</td>\n",
       "      <td>233</td>\n",
       "      <td>30</td>\n",
       "    </tr>\n",
       "    <tr>\n",
       "      <th>864</th>\n",
       "      <td>TomatoPHP</td>\n",
       "      <td>161</td>\n",
       "      <td>4</td>\n",
       "    </tr>\n",
       "    <tr>\n",
       "      <th>1146</th>\n",
       "      <td>Mohamed Tamer</td>\n",
       "      <td>157</td>\n",
       "      <td>9</td>\n",
       "    </tr>\n",
       "    <tr>\n",
       "      <th>417</th>\n",
       "      <td>Vardot</td>\n",
       "      <td>156</td>\n",
       "      <td>5</td>\n",
       "    </tr>\n",
       "    <tr>\n",
       "      <th>167</th>\n",
       "      <td>Ahmed Osama</td>\n",
       "      <td>153</td>\n",
       "      <td>2</td>\n",
       "    </tr>\n",
       "    <tr>\n",
       "      <th>1033</th>\n",
       "      <td>Khaled ElMorshedy</td>\n",
       "      <td>151</td>\n",
       "      <td>5</td>\n",
       "    </tr>\n",
       "    <tr>\n",
       "      <th>504</th>\n",
       "      <td>Cartologic</td>\n",
       "      <td>150</td>\n",
       "      <td>15</td>\n",
       "    </tr>\n",
       "    <tr>\n",
       "      <th>434</th>\n",
       "      <td>Maher El Gamil</td>\n",
       "      <td>141</td>\n",
       "      <td>5</td>\n",
       "    </tr>\n",
       "  </tbody>\n",
       "</table>\n",
       "</div>"
      ],
      "text/plain": [
       "                   name  public_repos  contribs_count\n",
       "1051         Abdelrazek           788               3\n",
       "1052       Eslam Faisal           235               8\n",
       "353       Amr Elsekilly           233              30\n",
       "864           TomatoPHP           161               4\n",
       "1146      Mohamed Tamer           157               9\n",
       "417              Vardot           156               5\n",
       "167         Ahmed Osama           153               2\n",
       "1033  Khaled ElMorshedy           151               5\n",
       "504          Cartologic           150              15\n",
       "434      Maher El Gamil           141               5"
      ]
     },
     "execution_count": 131,
     "metadata": {},
     "output_type": "execute_result"
    }
   ],
   "source": [
    "Most_Active_Users = df.sort_values(by=['public_repos','contribs_count'],ascending=False)\n",
    "Most_Active_Users = Most_Active_Users.drop_duplicates(subset='name')\n",
    "most_active_user = Most_Active_Users[['name','public_repos','contribs_count']].head(10)\n",
    "most_active_user"
   ]
  },
  {
   "cell_type": "code",
   "execution_count": 132,
   "metadata": {},
   "outputs": [
    {
     "data": {
      "image/png": "[encoded data removed]",
      "text/plain": [
       "<Figure size 1000x800 with 1 Axes>"
      ]
     },
     "metadata": {},
     "output_type": "display_data"
    }
   ],
   "source": [
    "most_active_user.plot(kind='barh',x='name',y=['public_repos','contribs_count'],figsize=(10,8))\n",
    "plt.title('Top 10 Active Users')\n",
    "plt.xlabel('Count')\n",
    "plt.ylabel('Username')\n",
    "plt.show()"
   ]
  },
  {
   "cell_type": "markdown",
   "metadata": {},
   "source": [
    "### Observation\n",
    "### Abdelrazek has the highest number of public repositories, while Amr Elsekilly has the highest number of contributions among the listed users."
   ]
  },
  {
   "cell_type": "markdown",
   "metadata": {},
   "source": [
    "### What are the top 10 Popular Repos?"
   ]
  },
  {
   "cell_type": "code",
   "execution_count": 133,
   "metadata": {},
   "outputs": [
    {
     "data": {
      "text/html": [
       "<div>\n",
       "<style scoped>\n",
       "    .dataframe tbody tr th:only-of-type {\n",
       "        vertical-align: middle;\n",
       "    }\n",
       "\n",
       "    .dataframe tbody tr th {\n",
       "        vertical-align: top;\n",
       "    }\n",
       "\n",
       "    .dataframe thead th {\n",
       "        text-align: right;\n",
       "    }\n",
       "</style>\n",
       "<table border=\"1\" class=\"dataframe\">\n",
       "  <thead>\n",
       "    <tr style=\"text-align: right;\">\n",
       "      <th></th>\n",
       "      <th>repo_name</th>\n",
       "      <th>stargazers_count</th>\n",
       "      <th>forks_count</th>\n",
       "    </tr>\n",
       "  </thead>\n",
       "  <tbody>\n",
       "    <tr>\n",
       "      <th>467</th>\n",
       "      <td>sublist3r</td>\n",
       "      <td>9734</td>\n",
       "      <td>2104</td>\n",
       "    </tr>\n",
       "    <tr>\n",
       "      <th>571</th>\n",
       "      <td>deeplearning.ai-summary</td>\n",
       "      <td>5151</td>\n",
       "      <td>2444</td>\n",
       "    </tr>\n",
       "    <tr>\n",
       "      <th>372</th>\n",
       "      <td>autocomplete.js</td>\n",
       "      <td>3939</td>\n",
       "      <td>237</td>\n",
       "    </tr>\n",
       "    <tr>\n",
       "      <th>365</th>\n",
       "      <td>shell</td>\n",
       "      <td>3372</td>\n",
       "      <td>113</td>\n",
       "    </tr>\n",
       "    <tr>\n",
       "      <th>574</th>\n",
       "      <td>competitive-programming-library</td>\n",
       "      <td>2445</td>\n",
       "      <td>472</td>\n",
       "    </tr>\n",
       "    <tr>\n",
       "      <th>650</th>\n",
       "      <td>cr3dov3r</td>\n",
       "      <td>2011</td>\n",
       "      <td>411</td>\n",
       "    </tr>\n",
       "    <tr>\n",
       "      <th>653</th>\n",
       "      <td>one-lin3r</td>\n",
       "      <td>1662</td>\n",
       "      <td>291</td>\n",
       "    </tr>\n",
       "    <tr>\n",
       "      <th>652</th>\n",
       "      <td>dr0p1t-framework</td>\n",
       "      <td>1379</td>\n",
       "      <td>372</td>\n",
       "    </tr>\n",
       "    <tr>\n",
       "      <th>1322</th>\n",
       "      <td>winpaletter</td>\n",
       "      <td>1360</td>\n",
       "      <td>56</td>\n",
       "    </tr>\n",
       "    <tr>\n",
       "      <th>1296</th>\n",
       "      <td>mybrain</td>\n",
       "      <td>1209</td>\n",
       "      <td>83</td>\n",
       "    </tr>\n",
       "  </tbody>\n",
       "</table>\n",
       "</div>"
      ],
      "text/plain": [
       "                            repo_name  stargazers_count  forks_count\n",
       "467                         sublist3r              9734         2104\n",
       "571           deeplearning.ai-summary              5151         2444\n",
       "372                   autocomplete.js              3939          237\n",
       "365                             shell              3372          113\n",
       "574   competitive-programming-library              2445          472\n",
       "650                          cr3dov3r              2011          411\n",
       "653                         one-lin3r              1662          291\n",
       "652                  dr0p1t-framework              1379          372\n",
       "1322                      winpaletter              1360           56\n",
       "1296                          mybrain              1209           83"
      ]
     },
     "execution_count": 133,
     "metadata": {},
     "output_type": "execute_result"
    }
   ],
   "source": [
    "Most_Popular_Repos = df.sort_values(by=['stargazers_count','forks_count'],ascending=False).head(10)\n",
    "Most_Popular_Repos[['repo_name','stargazers_count','forks_count']]"
   ]
  },
  {
   "cell_type": "code",
   "execution_count": 134,
   "metadata": {},
   "outputs": [
    {
     "data": {
      "image/png": "[encoded data removed]",
      "text/plain": [
       "<Figure size 1000x800 with 1 Axes>"
      ]
     },
     "metadata": {},
     "output_type": "display_data"
    }
   ],
   "source": [
    "Most_Popular_Repos.plot(kind='barh',x='repo_name',y=['stargazers_count','forks_count'],figsize=(10,8))\n",
    "plt.title('Top 10 Popular Repos')\n",
    "plt.xlabel('Count')\n",
    "plt.ylabel('Repo Name')\n",
    "plt.show()"
   ]
  },
  {
   "cell_type": "markdown",
   "metadata": {},
   "source": [
    "### Observation\n",
    "### The \"sublist3r\" repository has the highest number of stars, while the \"deeplearning.ai-summary\" repository has the highest number of forks among the top 10 popular repositories listed."
   ]
  },
  {
   "cell_type": "markdown",
   "metadata": {},
   "source": [
    "### Who has the most followers and the most following?"
   ]
  },
  {
   "cell_type": "code",
   "execution_count": 135,
   "metadata": {},
   "outputs": [
    {
     "data": {
      "text/html": [
       "<div>\n",
       "<style scoped>\n",
       "    .dataframe tbody tr th:only-of-type {\n",
       "        vertical-align: middle;\n",
       "    }\n",
       "\n",
       "    .dataframe tbody tr th {\n",
       "        vertical-align: top;\n",
       "    }\n",
       "\n",
       "    .dataframe thead th {\n",
       "        text-align: right;\n",
       "    }\n",
       "</style>\n",
       "<table border=\"1\" class=\"dataframe\">\n",
       "  <thead>\n",
       "    <tr style=\"text-align: right;\">\n",
       "      <th></th>\n",
       "      <th>name</th>\n",
       "      <th>followers</th>\n",
       "      <th>following</th>\n",
       "    </tr>\n",
       "  </thead>\n",
       "  <tbody>\n",
       "    <tr>\n",
       "      <th>542</th>\n",
       "      <td>Mahmoud Ahmed</td>\n",
       "      <td>3198</td>\n",
       "      <td>264</td>\n",
       "    </tr>\n",
       "    <tr>\n",
       "      <th>344</th>\n",
       "      <td>Osama</td>\n",
       "      <td>2768</td>\n",
       "      <td>0</td>\n",
       "    </tr>\n",
       "    <tr>\n",
       "      <th>1060</th>\n",
       "      <td>Abdullah Mansour</td>\n",
       "      <td>2724</td>\n",
       "      <td>0</td>\n",
       "    </tr>\n",
       "    <tr>\n",
       "      <th>647</th>\n",
       "      <td>Karim shoair</td>\n",
       "      <td>1866</td>\n",
       "      <td>79</td>\n",
       "    </tr>\n",
       "    <tr>\n",
       "      <th>453</th>\n",
       "      <td>Ebrahem Hegazy</td>\n",
       "      <td>1843</td>\n",
       "      <td>2</td>\n",
       "    </tr>\n",
       "    <tr>\n",
       "      <th>466</th>\n",
       "      <td>Ahmed Aboul-Ela</td>\n",
       "      <td>1299</td>\n",
       "      <td>2</td>\n",
       "    </tr>\n",
       "    <tr>\n",
       "      <th>1336</th>\n",
       "      <td>Hesham Haroon</td>\n",
       "      <td>1166</td>\n",
       "      <td>6</td>\n",
       "    </tr>\n",
       "    <tr>\n",
       "      <th>571</th>\n",
       "      <td>Mahmoud Badry</td>\n",
       "      <td>1004</td>\n",
       "      <td>5</td>\n",
       "    </tr>\n",
       "    <tr>\n",
       "      <th>1146</th>\n",
       "      <td>Mohamed Tamer</td>\n",
       "      <td>989</td>\n",
       "      <td>428</td>\n",
       "    </tr>\n",
       "    <tr>\n",
       "      <th>1397</th>\n",
       "      <td>Kerollos Magdy</td>\n",
       "      <td>956</td>\n",
       "      <td>35</td>\n",
       "    </tr>\n",
       "  </tbody>\n",
       "</table>\n",
       "</div>"
      ],
      "text/plain": [
       "                  name  followers  following\n",
       "542      Mahmoud Ahmed       3198        264\n",
       "344              Osama       2768          0\n",
       "1060  Abdullah Mansour       2724          0\n",
       "647       Karim shoair       1866         79\n",
       "453     Ebrahem Hegazy       1843          2\n",
       "466    Ahmed Aboul-Ela       1299          2\n",
       "1336     Hesham Haroon       1166          6\n",
       "571      Mahmoud Badry       1004          5\n",
       "1146     Mohamed Tamer        989        428\n",
       "1397    Kerollos Magdy        956         35"
      ]
     },
     "execution_count": 135,
     "metadata": {},
     "output_type": "execute_result"
    }
   ],
   "source": [
    "Users_Follow = df.sort_values(by=['followers','following'],ascending=False)\n",
    "Users_Follow = Users_Follow.drop_duplicates(subset='name')\n",
    "User_follows = Users_Follow[['name','followers','following']].head(10)\n",
    "User_follows"
   ]
  },
  {
   "cell_type": "code",
   "execution_count": 136,
   "metadata": {},
   "outputs": [
    {
     "data": {
      "image/png": "[encoded data removed]",
      "text/plain": [
       "<Figure size 1000x800 with 1 Axes>"
      ]
     },
     "metadata": {},
     "output_type": "display_data"
    }
   ],
   "source": [
    "User_follows.plot(kind='barh',x='name',y=['followers','following'],figsize=(10,8))\n",
    "plt.title('Top 10 Users By Followers')\n",
    "plt.xlabel('Count')\n",
    "plt.ylabel('Name')\n",
    "plt.show()"
   ]
  },
  {
   "cell_type": "markdown",
   "metadata": {},
   "source": [
    "### Observation\n",
    "### Mahmoud Ahmed has the highest number of followers among the listed users, significantly more than any other individual. While Mohamed Tamer also has the highest number of followings. The remaining users have comparatively low follower counts, and several have minimal or zero \"following\" counts."
   ]
  },
  {
   "cell_type": "markdown",
   "metadata": {},
   "source": [
    "### Which are the top 10 cities with the highest concentration of developers?"
   ]
  },
  {
   "cell_type": "code",
   "execution_count": 137,
   "metadata": {},
   "outputs": [
    {
     "data": {
      "text/plain": [
       "location\n",
       "egypt          750\n",
       "cairo          509\n",
       "alexandria     128\n",
       "giza            72\n",
       "dakahlia        25\n",
       "sharqia         14\n",
       "port said       11\n",
       "north sinai     11\n",
       "gharbia         10\n",
       "assiut           8\n",
       "Name: count, dtype: int64"
      ]
     },
     "execution_count": 137,
     "metadata": {},
     "output_type": "execute_result"
    }
   ],
   "source": [
    "locations = df['location'].value_counts().head(10)\n",
    "locations"
   ]
  },
  {
   "cell_type": "code",
   "execution_count": 138,
   "metadata": {},
   "outputs": [
    {
     "data": {
      "image/png": "[encoded data removed]",
      "text/plain": [
       "<Figure size 640x480 with 1 Axes>"
      ]
     },
     "metadata": {},
     "output_type": "display_data"
    }
   ],
   "source": [
    "plt.barh(locations.index,locations.values)\n",
    "plt.title('Top 10 Geographical Distribution for Users')\n",
    "plt.xlabel('Count')\n",
    "plt.ylabel('City')\n",
    "plt.show()"
   ]
  },
  {
   "cell_type": "markdown",
   "metadata": {},
   "source": [
    "### Observation\n",
    "### Cairo and Egypt are the most frequently listed locations for users, suggesting a strong concentration of users identifying with these broader or capital-specific designations. Other specific cities like Alexandria, Giza, and Mansoura are represented, but with significantly lower counts. The presence of \"Egypt\" as a top location likely encompasses users who may not have specified a more granular city within the country."
   ]
  },
  {
   "cell_type": "markdown",
   "metadata": {},
   "source": [
    "### How have the contributions of developers evolved over time?"
   ]
  },
  {
   "cell_type": "code",
   "execution_count": 139,
   "metadata": {},
   "outputs": [
    {
     "data": {
      "text/html": [
       "<div>\n",
       "<style scoped>\n",
       "    .dataframe tbody tr th:only-of-type {\n",
       "        vertical-align: middle;\n",
       "    }\n",
       "\n",
       "    .dataframe tbody tr th {\n",
       "        vertical-align: top;\n",
       "    }\n",
       "\n",
       "    .dataframe thead th {\n",
       "        text-align: right;\n",
       "    }\n",
       "</style>\n",
       "<table border=\"1\" class=\"dataframe\">\n",
       "  <thead>\n",
       "    <tr style=\"text-align: right;\">\n",
       "      <th></th>\n",
       "      <th>repo_name</th>\n",
       "    </tr>\n",
       "    <tr>\n",
       "      <th>new_profile_created_at</th>\n",
       "      <th></th>\n",
       "    </tr>\n",
       "  </thead>\n",
       "  <tbody>\n",
       "    <tr>\n",
       "      <th>2008</th>\n",
       "      <td>2</td>\n",
       "    </tr>\n",
       "    <tr>\n",
       "      <th>2009</th>\n",
       "      <td>5</td>\n",
       "    </tr>\n",
       "    <tr>\n",
       "      <th>2010</th>\n",
       "      <td>9</td>\n",
       "    </tr>\n",
       "    <tr>\n",
       "      <th>2011</th>\n",
       "      <td>19</td>\n",
       "    </tr>\n",
       "    <tr>\n",
       "      <th>2012</th>\n",
       "      <td>22</td>\n",
       "    </tr>\n",
       "    <tr>\n",
       "      <th>2013</th>\n",
       "      <td>47</td>\n",
       "    </tr>\n",
       "    <tr>\n",
       "      <th>2014</th>\n",
       "      <td>62</td>\n",
       "    </tr>\n",
       "    <tr>\n",
       "      <th>2015</th>\n",
       "      <td>103</td>\n",
       "    </tr>\n",
       "    <tr>\n",
       "      <th>2016</th>\n",
       "      <td>143</td>\n",
       "    </tr>\n",
       "    <tr>\n",
       "      <th>2017</th>\n",
       "      <td>118</td>\n",
       "    </tr>\n",
       "    <tr>\n",
       "      <th>2018</th>\n",
       "      <td>153</td>\n",
       "    </tr>\n",
       "    <tr>\n",
       "      <th>2019</th>\n",
       "      <td>202</td>\n",
       "    </tr>\n",
       "    <tr>\n",
       "      <th>2020</th>\n",
       "      <td>260</td>\n",
       "    </tr>\n",
       "    <tr>\n",
       "      <th>2021</th>\n",
       "      <td>174</td>\n",
       "    </tr>\n",
       "    <tr>\n",
       "      <th>2022</th>\n",
       "      <td>132</td>\n",
       "    </tr>\n",
       "    <tr>\n",
       "      <th>2023</th>\n",
       "      <td>108</td>\n",
       "    </tr>\n",
       "    <tr>\n",
       "      <th>2024</th>\n",
       "      <td>19</td>\n",
       "    </tr>\n",
       "  </tbody>\n",
       "</table>\n",
       "</div>"
      ],
      "text/plain": [
       "                        repo_name\n",
       "new_profile_created_at           \n",
       "2008                            2\n",
       "2009                            5\n",
       "2010                            9\n",
       "2011                           19\n",
       "2012                           22\n",
       "2013                           47\n",
       "2014                           62\n",
       "2015                          103\n",
       "2016                          143\n",
       "2017                          118\n",
       "2018                          153\n",
       "2019                          202\n",
       "2020                          260\n",
       "2021                          174\n",
       "2022                          132\n",
       "2023                          108\n",
       "2024                           19"
      ]
     },
     "execution_count": 139,
     "metadata": {},
     "output_type": "execute_result"
    }
   ],
   "source": [
    "contribution_over_time = df.groupby(df['new_profile_created_at'].dt.year)['repo_name'].count()\n",
    "contribution_over_times = pd.DataFrame(contribution_over_time)\n",
    "contribution_over_times"
   ]
  },
  {
   "cell_type": "code",
   "execution_count": 140,
   "metadata": {},
   "outputs": [
    {
     "data": {
      "image/png": "[encoded data removed]",
      "text/plain": [
       "<Figure size 640x480 with 1 Axes>"
      ]
     },
     "metadata": {},
     "output_type": "display_data"
    }
   ],
   "source": [
    "sns.lineplot(data=contribution_over_times,x=contribution_over_time.index,y=contribution_over_time.values)\n",
    "plt.title('Contribution Over Time')\n",
    "plt.xlabel('Year')\n",
    "plt.ylabel('Repo Count')\n",
    "plt.show()"
   ]
  },
  {
   "cell_type": "markdown",
   "metadata": {},
   "source": [
    "### Observation\n",
    "### There is a general upward trend in repository count over time, with a particularly significant surge around 2020, followed by a plateau and a slight decline towards 2024. This suggests a period of rapid growth in repository creation, followed by a stabilization or slight decrease in more recent years."
   ]
  },
  {
   "cell_type": "markdown",
   "metadata": {},
   "source": [
    "### What are the most licenses used?"
   ]
  },
  {
   "cell_type": "code",
   "execution_count": 141,
   "metadata": {},
   "outputs": [
    {
     "data": {
      "text/plain": [
       "license\n",
       "Unknown                                   908\n",
       "MIT License                               422\n",
       "GNU General Public License v3.0            78\n",
       "Apache License 2.0                         61\n",
       "Other                                      45\n",
       "GNU General Public License v2.0            14\n",
       "GNU Affero General Public License v3.0     13\n",
       "SIL Open Font License 1.1                   6\n",
       "GNU Lesser General Public License v3.0      4\n",
       "GNU Lesser General Public License v2.1      4\n",
       "Name: count, dtype: int64"
      ]
     },
     "execution_count": 141,
     "metadata": {},
     "output_type": "execute_result"
    }
   ],
   "source": [
    "licenses = df['license'].value_counts().head(10)\n",
    "licenses"
   ]
  },
  {
   "cell_type": "code",
   "execution_count": 142,
   "metadata": {},
   "outputs": [
    {
     "data": {
      "image/png": "[encoded data removed]",
      "text/plain": [
       "<Figure size 640x480 with 1 Axes>"
      ]
     },
     "metadata": {},
     "output_type": "display_data"
    }
   ],
   "source": [
    "plt.barh(licenses.index,licenses.values)\n",
    "plt.title('Top License Used')\n",
    "plt.xlabel('Count')\n",
    "plt.ylabel('License')\n",
    "plt.show()"
   ]
  },
  {
   "cell_type": "markdown",
   "metadata": {},
   "source": [
    "### Observation\n",
    "### The chart clearly illustrates the dominance of the MIT License as the most frequently used license, reflecting its widespread popularity in software projects. However, the substantial proportion of licenses categorized as 'Unknown' represent cases where licenses were not explicitly specified. Furthermore, the diversity of GNU and Apache licenses underscores the pervasive adoption of open-source software, highlighting the growing trend towards collaboration and shared software development. The presence of an 'Other' category indicates a variety of licenses that do not fall under the main categories, necessitating a separate study of these licenses to understand their nature and impact on projects."
   ]
  },
  {
   "cell_type": "markdown",
   "metadata": {},
   "source": [
    "### What are the Percentage of Open Issues and Closed Issues?"
   ]
  },
  {
   "cell_type": "code",
   "execution_count": 143,
   "metadata": {},
   "outputs": [
    {
     "data": {
      "text/plain": [
       "open_issues    1485\n",
       "dtype: int64"
      ]
     },
     "execution_count": 143,
     "metadata": {},
     "output_type": "execute_result"
    }
   ],
   "source": [
    "open_issue_count = df[df['open_issues'] != -1]\n",
    "open_issues_counts = open_issue_count[['open_issues']].sum()\n",
    "open_issues_counts"
   ]
  },
  {
   "cell_type": "code",
   "execution_count": 144,
   "metadata": {},
   "outputs": [
    {
     "data": {
      "text/plain": [
       "closed_issues    7012\n",
       "dtype: int64"
      ]
     },
     "execution_count": 144,
     "metadata": {},
     "output_type": "execute_result"
    }
   ],
   "source": [
    "closed_issue_count = df[df['closed_issues'] != -1]\n",
    "closed_issues_counts = closed_issue_count[['closed_issues']].sum()\n",
    "closed_issues_counts"
   ]
  },
  {
   "cell_type": "code",
   "execution_count": 145,
   "metadata": {},
   "outputs": [
    {
     "data": {
      "text/plain": [
       "Open_Issues      1485\n",
       "Closed_Issues    7012\n",
       "dtype: int64"
      ]
     },
     "execution_count": 145,
     "metadata": {},
     "output_type": "execute_result"
    }
   ],
   "source": [
    "issues = [1485 , 7012]\n",
    "Issues = pd.Series(issues,index=['Open_Issues','Closed_Issues'])\n",
    "Issues"
   ]
  },
  {
   "cell_type": "code",
   "execution_count": 146,
   "metadata": {},
   "outputs": [
    {
     "data": {
      "image/png": "[encoded data removed]",
      "text/plain": [
       "<Figure size 800x600 with 1 Axes>"
      ]
     },
     "metadata": {},
     "output_type": "display_data"
    }
   ],
   "source": [
    "plt.figure(figsize=(8,6))\n",
    "explode = (0,0.08)\n",
    "plt.pie(Issues.values,labels=Issues.index,explode=explode,autopct='%1.1f%%',shadow=True)\n",
    "plt.title('Issues Precentage')\n",
    "plt.legend(Issues.index)\n",
    "plt.show()"
   ]
  },
  {
   "cell_type": "markdown",
   "metadata": {},
   "source": [
    "### Observation\n",
    "### The pie chart clearly demonstrates a significant disparity between closed and open issues, with closed issues comprising the vast majority at 82.5%, while open issues account for only 17.5%. This indicates a high rate of issue resolution or closure within the dataset, suggesting effective management or a mature project state."
   ]
  },
  {
   "cell_type": "markdown",
   "metadata": {},
   "source": [
    "### What are the percentage of Open Pull Requests and Closed Pull Requests?"
   ]
  },
  {
   "cell_type": "code",
   "execution_count": 147,
   "metadata": {},
   "outputs": [
    {
     "data": {
      "text/plain": [
       "open_pull_requests    658\n",
       "dtype: int64"
      ]
     },
     "execution_count": 147,
     "metadata": {},
     "output_type": "execute_result"
    }
   ],
   "source": [
    "open_pull_req_count = df[df['open_pull_requests'] != -1]\n",
    "open_pull_req_counts = open_pull_req_count[['open_pull_requests']].sum()\n",
    "open_pull_req_counts"
   ]
  },
  {
   "cell_type": "code",
   "execution_count": 148,
   "metadata": {},
   "outputs": [
    {
     "data": {
      "text/plain": [
       "closed_pull_requests    5847\n",
       "dtype: int64"
      ]
     },
     "execution_count": 148,
     "metadata": {},
     "output_type": "execute_result"
    }
   ],
   "source": [
    "closed_pull_req_count = df[df['closed_pull_requests'] != -1]\n",
    "closed_pull_req_counts = closed_pull_req_count[['closed_pull_requests']].sum()\n",
    "closed_pull_req_counts"
   ]
  },
  {
   "cell_type": "code",
   "execution_count": 149,
   "metadata": {},
   "outputs": [
    {
     "data": {
      "text/plain": [
       "Open_Pull_Req       685\n",
       "Closed_Pull_Req    5847\n",
       "dtype: int64"
      ]
     },
     "execution_count": 149,
     "metadata": {},
     "output_type": "execute_result"
    }
   ],
   "source": [
    "pull_req = [685 , 5847]\n",
    "Pull_Req = pd.Series(pull_req,index=['Open_Pull_Req','Closed_Pull_Req'])\n",
    "Pull_Req"
   ]
  },
  {
   "cell_type": "code",
   "execution_count": 150,
   "metadata": {},
   "outputs": [
    {
     "data": {
      "image/png": "[encoded data removed]",
      "text/plain": [
       "<Figure size 800x600 with 1 Axes>"
      ]
     },
     "metadata": {},
     "output_type": "display_data"
    }
   ],
   "source": [
    "plt.figure(figsize=(8,6))\n",
    "plt.pie(Pull_Req.values,labels=Pull_Req.index,shadow=True,autopct='%1.1f%%',explode=explode)\n",
    "plt.legend(Pull_Req.index)\n",
    "plt.title('Pull Requests Percentage')\n",
    "plt.show()"
   ]
  },
  {
   "cell_type": "markdown",
   "metadata": {},
   "source": [
    "### Observation\n",
    "### The pie chart reveals a clear dominance of closed pull requests, accounting for 89.5% of the total, while open pull requests represent only 10.5%. This indicates a highly efficient process of reviewing and merging pull requests, suggesting a well-managed or mature project with a strong emphasis on code integration."
   ]
  },
  {
   "cell_type": "markdown",
   "metadata": {},
   "source": [
    "### How many have the same score in documentation score?"
   ]
  },
  {
   "cell_type": "code",
   "execution_count": 151,
   "metadata": {},
   "outputs": [
    {
     "data": {
      "text/plain": [
       "documentation_score\n",
       "5    494\n",
       "4    484\n",
       "6    292\n",
       "7    171\n",
       "8     57\n",
       "1     34\n",
       "0     22\n",
       "2     18\n",
       "3      6\n",
       "Name: count, dtype: int64"
      ]
     },
     "execution_count": 151,
     "metadata": {},
     "output_type": "execute_result"
    }
   ],
   "source": [
    "doc_score_count = df['documentation_score'].value_counts()\n",
    "doc_score_count"
   ]
  },
  {
   "cell_type": "code",
   "execution_count": 152,
   "metadata": {},
   "outputs": [
    {
     "data": {
      "text/plain": [
       "Index([5, 4, 6, 7, 8, 1, 0, 2, 3], dtype='int64', name='documentation_score')"
      ]
     },
     "execution_count": 152,
     "metadata": {},
     "output_type": "execute_result"
    }
   ],
   "source": [
    "doc_score_count.index"
   ]
  },
  {
   "cell_type": "code",
   "execution_count": 153,
   "metadata": {},
   "outputs": [
    {
     "data": {
      "image/png": "[encoded data removed]",
      "text/plain": [
       "<Figure size 800x600 with 1 Axes>"
      ]
     },
     "metadata": {},
     "output_type": "display_data"
    }
   ],
   "source": [
    "plt.figure(figsize=(8,6))\n",
    "plt.bar(x=doc_score_count.index,height=doc_score_count.values)\n",
    "plt.xticks(doc_score_count.index,labels=doc_score_count.index,rotation=45)\n",
    "plt.title('Counts of Documentation Score')\n",
    "plt.xlabel('Score')\n",
    "plt.ylabel('Count')\n",
    "plt.show()"
   ]
  },
  {
   "cell_type": "markdown",
   "metadata": {},
   "source": [
    "### Observation\n",
    "### The bar chart effectively visualizes the distribution of 'Documentation Scores'. There's a noticeable concentration of scores around 4, 5, and 6, indicating these are the most frequently assigned documentation scores. Conversely, scores 0, 1, 2, 3, 7, and 8 show significantly lower counts, suggesting these scores are less common within the dataset.\""
   ]
  },
  {
   "cell_type": "code",
   "execution_count": null,
   "metadata": {},
   "outputs": [],
   "source": []
  },
  {
   "cell_type": "code",
   "execution_count": null,
   "metadata": {},
   "outputs": [],
   "source": []
  },
  {
   "cell_type": "code",
   "execution_count": null,
   "metadata": {},
   "outputs": [],
   "source": []
  }
 ],
 "metadata": {
  "kernelspec": {
   "display_name": "Python 3",
   "language": "python",
   "name": "python3"
  },
  "language_info": {
   "codemirror_mode": {
    "name": "ipython",
    "version": 3
   },
   "file_extension": ".py",
   "mimetype": "text/x-python",
   "name": "python",
   "nbconvert_exporter": "python",
   "pygments_lexer": "ipython3",
   "version": "3.13.2"
  }
 },
 "nbformat": 4,
 "nbformat_minor": 2
}
